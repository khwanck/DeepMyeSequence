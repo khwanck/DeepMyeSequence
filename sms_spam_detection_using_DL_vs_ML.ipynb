{
  "metadata": {
    "kernelspec": {
      "language": "python",
      "display_name": "Python 3",
      "name": "python3"
    },
    "language_info": {
      "pygments_lexer": "ipython3",
      "nbconvert_exporter": "python",
      "version": "3.6.4",
      "file_extension": ".py",
      "codemirror_mode": {
        "name": "ipython",
        "version": 3
      },
      "name": "python",
      "mimetype": "text/x-python"
    },
    "colab": {
      "name": "sms-spam-detection-using-DL-vs-ML.ipynb",
      "provenance": [],
      "machine_shape": "hm"
    },
    "accelerator": "GPU"
  },
  "nbformat_minor": 0,
  "nbformat": 4,
  "cells": [
    {
      "cell_type": "code",
      "source": [
        "import pandas as pd\n",
        "import numpy as np\n",
        "import tensorflow as tf\n",
        "import matplotlib.pyplot as plt\n",
        "import seaborn as sns\n",
        "import time\n",
        "from sklearn.model_selection import train_test_split\n",
        "from sklearn.preprocessing import LabelEncoder\n",
        "from keras.models import Model\n",
        "from keras.models import Sequential\n",
        "from tensorflow.keras.optimizers import Adam\n",
        "from keras.layers import LSTM, SimpleRNN, GRU, Activation, Dense, Dropout, Input, Embedding\n",
        "from tensorflow.keras.optimizers import RMSprop\n",
        "from keras.preprocessing.text import Tokenizer\n",
        "from keras.preprocessing import sequence\n",
        "from tensorflow.keras.utils import to_categorical\n",
        "from keras.callbacks import EarlyStopping\n",
        "from keras.layers import Flatten\n",
        "%matplotlib inline\n",
        "\n",
        "import plotly.express as px\n",
        "import plotly.graph_objects as go\n",
        "from plotly.subplots import make_subplots"
      ],
      "metadata": {
        "execution": {
          "iopub.status.busy": "2021-11-21T04:32:15.593597Z",
          "iopub.execute_input": "2021-11-21T04:32:15.593982Z",
          "iopub.status.idle": "2021-11-21T04:32:22.357017Z",
          "shell.execute_reply.started": "2021-11-21T04:32:15.593898Z",
          "shell.execute_reply": "2021-11-21T04:32:22.355902Z"
        },
        "trusted": true,
        "id": "XN7Ccd8oIL7A"
      },
      "execution_count": 111,
      "outputs": []
    },
    {
      "cell_type": "code",
      "source": [
        "import seaborn as sns\n",
        "from sklearn.model_selection import train_test_split, cross_val_score\n",
        "from sklearn.feature_extraction.text import TfidfVectorizer\n",
        "from sklearn.metrics import fbeta_score, make_scorer\n",
        "\n",
        "from sklearn.naive_bayes import MultinomialNB\n",
        "from sklearn.ensemble import RandomForestClassifier\n",
        "from sklearn.svm import SVC"
      ],
      "metadata": {
        "id": "IKxMQa5ldc8f"
      },
      "execution_count": 112,
      "outputs": []
    },
    {
      "cell_type": "code",
      "source": [
        "df=pd.read_csv('https://raw.githubusercontent.com/khwanck/DeepMyeSequence/main/dataset/spam.csv',delimiter=',',encoding='latin-1')"
      ],
      "metadata": {
        "execution": {
          "iopub.status.busy": "2021-11-21T04:32:22.358532Z",
          "iopub.execute_input": "2021-11-21T04:32:22.358803Z",
          "iopub.status.idle": "2021-11-21T04:32:22.403892Z",
          "shell.execute_reply.started": "2021-11-21T04:32:22.358756Z",
          "shell.execute_reply": "2021-11-21T04:32:22.403113Z"
        },
        "trusted": true,
        "id": "AKZgK1oZIL7E"
      },
      "execution_count": 113,
      "outputs": []
    },
    {
      "cell_type": "code",
      "source": [
        "# drop unuse columns\n",
        "df.rename(columns={'v1':'target','v2':'sms'},inplace=True)\n",
        "df.drop(['Unnamed: 2', 'Unnamed: 3', 'Unnamed: 4'], axis=1, inplace=True)\n",
        "df.dropna()\n",
        "df.drop_duplicates()\n",
        "df.head()"
      ],
      "metadata": {
        "execution": {
          "iopub.status.busy": "2021-11-21T04:32:22.434381Z",
          "iopub.execute_input": "2021-11-21T04:32:22.434935Z",
          "iopub.status.idle": "2021-11-21T04:32:22.443813Z",
          "shell.execute_reply.started": "2021-11-21T04:32:22.434894Z",
          "shell.execute_reply": "2021-11-21T04:32:22.442814Z"
        },
        "trusted": true,
        "id": "u-g07dO-IL7G",
        "colab": {
          "base_uri": "https://localhost:8080/",
          "height": 206
        },
        "outputId": "782f6aa8-3292-42b6-c4da-b9e294cf9175"
      },
      "execution_count": 114,
      "outputs": [
        {
          "output_type": "execute_result",
          "data": {
            "text/plain": [
              "  target                                                sms\n",
              "0    ham  Go until jurong point, crazy.. Available only ...\n",
              "1    ham                      Ok lar... Joking wif u oni...\n",
              "2   spam  Free entry in 2 a wkly comp to win FA Cup fina...\n",
              "3    ham  U dun say so early hor... U c already then say...\n",
              "4    ham  Nah I don't think he goes to usf, he lives aro..."
            ],
            "text/html": [
              "\n",
              "  <div id=\"df-94fa1790-9ea1-48d8-bccc-8308ca90c463\">\n",
              "    <div class=\"colab-df-container\">\n",
              "      <div>\n",
              "<style scoped>\n",
              "    .dataframe tbody tr th:only-of-type {\n",
              "        vertical-align: middle;\n",
              "    }\n",
              "\n",
              "    .dataframe tbody tr th {\n",
              "        vertical-align: top;\n",
              "    }\n",
              "\n",
              "    .dataframe thead th {\n",
              "        text-align: right;\n",
              "    }\n",
              "</style>\n",
              "<table border=\"1\" class=\"dataframe\">\n",
              "  <thead>\n",
              "    <tr style=\"text-align: right;\">\n",
              "      <th></th>\n",
              "      <th>target</th>\n",
              "      <th>sms</th>\n",
              "    </tr>\n",
              "  </thead>\n",
              "  <tbody>\n",
              "    <tr>\n",
              "      <th>0</th>\n",
              "      <td>ham</td>\n",
              "      <td>Go until jurong point, crazy.. Available only ...</td>\n",
              "    </tr>\n",
              "    <tr>\n",
              "      <th>1</th>\n",
              "      <td>ham</td>\n",
              "      <td>Ok lar... Joking wif u oni...</td>\n",
              "    </tr>\n",
              "    <tr>\n",
              "      <th>2</th>\n",
              "      <td>spam</td>\n",
              "      <td>Free entry in 2 a wkly comp to win FA Cup fina...</td>\n",
              "    </tr>\n",
              "    <tr>\n",
              "      <th>3</th>\n",
              "      <td>ham</td>\n",
              "      <td>U dun say so early hor... U c already then say...</td>\n",
              "    </tr>\n",
              "    <tr>\n",
              "      <th>4</th>\n",
              "      <td>ham</td>\n",
              "      <td>Nah I don't think he goes to usf, he lives aro...</td>\n",
              "    </tr>\n",
              "  </tbody>\n",
              "</table>\n",
              "</div>\n",
              "      <button class=\"colab-df-convert\" onclick=\"convertToInteractive('df-94fa1790-9ea1-48d8-bccc-8308ca90c463')\"\n",
              "              title=\"Convert this dataframe to an interactive table.\"\n",
              "              style=\"display:none;\">\n",
              "        \n",
              "  <svg xmlns=\"http://www.w3.org/2000/svg\" height=\"24px\"viewBox=\"0 0 24 24\"\n",
              "       width=\"24px\">\n",
              "    <path d=\"M0 0h24v24H0V0z\" fill=\"none\"/>\n",
              "    <path d=\"M18.56 5.44l.94 2.06.94-2.06 2.06-.94-2.06-.94-.94-2.06-.94 2.06-2.06.94zm-11 1L8.5 8.5l.94-2.06 2.06-.94-2.06-.94L8.5 2.5l-.94 2.06-2.06.94zm10 10l.94 2.06.94-2.06 2.06-.94-2.06-.94-.94-2.06-.94 2.06-2.06.94z\"/><path d=\"M17.41 7.96l-1.37-1.37c-.4-.4-.92-.59-1.43-.59-.52 0-1.04.2-1.43.59L10.3 9.45l-7.72 7.72c-.78.78-.78 2.05 0 2.83L4 21.41c.39.39.9.59 1.41.59.51 0 1.02-.2 1.41-.59l7.78-7.78 2.81-2.81c.8-.78.8-2.07 0-2.86zM5.41 20L4 18.59l7.72-7.72 1.47 1.35L5.41 20z\"/>\n",
              "  </svg>\n",
              "      </button>\n",
              "      \n",
              "  <style>\n",
              "    .colab-df-container {\n",
              "      display:flex;\n",
              "      flex-wrap:wrap;\n",
              "      gap: 12px;\n",
              "    }\n",
              "\n",
              "    .colab-df-convert {\n",
              "      background-color: #E8F0FE;\n",
              "      border: none;\n",
              "      border-radius: 50%;\n",
              "      cursor: pointer;\n",
              "      display: none;\n",
              "      fill: #1967D2;\n",
              "      height: 32px;\n",
              "      padding: 0 0 0 0;\n",
              "      width: 32px;\n",
              "    }\n",
              "\n",
              "    .colab-df-convert:hover {\n",
              "      background-color: #E2EBFA;\n",
              "      box-shadow: 0px 1px 2px rgba(60, 64, 67, 0.3), 0px 1px 3px 1px rgba(60, 64, 67, 0.15);\n",
              "      fill: #174EA6;\n",
              "    }\n",
              "\n",
              "    [theme=dark] .colab-df-convert {\n",
              "      background-color: #3B4455;\n",
              "      fill: #D2E3FC;\n",
              "    }\n",
              "\n",
              "    [theme=dark] .colab-df-convert:hover {\n",
              "      background-color: #434B5C;\n",
              "      box-shadow: 0px 1px 3px 1px rgba(0, 0, 0, 0.15);\n",
              "      filter: drop-shadow(0px 1px 2px rgba(0, 0, 0, 0.3));\n",
              "      fill: #FFFFFF;\n",
              "    }\n",
              "  </style>\n",
              "\n",
              "      <script>\n",
              "        const buttonEl =\n",
              "          document.querySelector('#df-94fa1790-9ea1-48d8-bccc-8308ca90c463 button.colab-df-convert');\n",
              "        buttonEl.style.display =\n",
              "          google.colab.kernel.accessAllowed ? 'block' : 'none';\n",
              "\n",
              "        async function convertToInteractive(key) {\n",
              "          const element = document.querySelector('#df-94fa1790-9ea1-48d8-bccc-8308ca90c463');\n",
              "          const dataTable =\n",
              "            await google.colab.kernel.invokeFunction('convertToInteractive',\n",
              "                                                     [key], {});\n",
              "          if (!dataTable) return;\n",
              "\n",
              "          const docLinkHtml = 'Like what you see? Visit the ' +\n",
              "            '<a target=\"_blank\" href=https://colab.research.google.com/notebooks/data_table.ipynb>data table notebook</a>'\n",
              "            + ' to learn more about interactive tables.';\n",
              "          element.innerHTML = '';\n",
              "          dataTable['output_type'] = 'display_data';\n",
              "          await google.colab.output.renderOutput(dataTable, element);\n",
              "          const docLink = document.createElement('div');\n",
              "          docLink.innerHTML = docLinkHtml;\n",
              "          element.appendChild(docLink);\n",
              "        }\n",
              "      </script>\n",
              "    </div>\n",
              "  </div>\n",
              "  "
            ]
          },
          "metadata": {},
          "execution_count": 114
        }
      ]
    },
    {
      "cell_type": "markdown",
      "source": [
        "## LabelEncoding Target Column"
      ],
      "metadata": {
        "id": "trBxK3EBIL7J"
      }
    },
    {
      "cell_type": "code",
      "source": [
        "from sklearn.preprocessing import LabelEncoder"
      ],
      "metadata": {
        "execution": {
          "iopub.status.busy": "2021-11-21T04:32:22.456503Z",
          "iopub.execute_input": "2021-11-21T04:32:22.457895Z",
          "iopub.status.idle": "2021-11-21T04:32:22.465161Z",
          "shell.execute_reply.started": "2021-11-21T04:32:22.457852Z",
          "shell.execute_reply": "2021-11-21T04:32:22.464021Z"
        },
        "trusted": true,
        "id": "vYCVly4KIL7N"
      },
      "execution_count": 115,
      "outputs": []
    },
    {
      "cell_type": "code",
      "source": [
        "le=LabelEncoder()"
      ],
      "metadata": {
        "execution": {
          "iopub.status.busy": "2021-11-21T04:32:22.466902Z",
          "iopub.execute_input": "2021-11-21T04:32:22.467231Z",
          "iopub.status.idle": "2021-11-21T04:32:22.47436Z",
          "shell.execute_reply.started": "2021-11-21T04:32:22.46719Z",
          "shell.execute_reply": "2021-11-21T04:32:22.473133Z"
        },
        "trusted": true,
        "id": "hkPPh5DSIL7O"
      },
      "execution_count": 116,
      "outputs": []
    },
    {
      "cell_type": "code",
      "source": [
        "df['target']=le.fit_transform(df['target'])"
      ],
      "metadata": {
        "execution": {
          "iopub.status.busy": "2021-11-21T04:32:22.47661Z",
          "iopub.execute_input": "2021-11-21T04:32:22.476954Z",
          "iopub.status.idle": "2021-11-21T04:32:22.48796Z",
          "shell.execute_reply.started": "2021-11-21T04:32:22.476897Z",
          "shell.execute_reply": "2021-11-21T04:32:22.486801Z"
        },
        "trusted": true,
        "id": "nC8SsFupIL7P"
      },
      "execution_count": 117,
      "outputs": []
    },
    {
      "cell_type": "markdown",
      "source": [
        "## train_test_split"
      ],
      "metadata": {
        "id": "sXPC47P4IL7Q"
      }
    },
    {
      "cell_type": "code",
      "source": [
        "x=df['sms']\n",
        "y=df['target']"
      ],
      "metadata": {
        "execution": {
          "iopub.status.busy": "2021-11-21T04:32:22.491465Z",
          "iopub.execute_input": "2021-11-21T04:32:22.492318Z",
          "iopub.status.idle": "2021-11-21T04:32:22.498372Z",
          "shell.execute_reply.started": "2021-11-21T04:32:22.492274Z",
          "shell.execute_reply": "2021-11-21T04:32:22.497259Z"
        },
        "trusted": true,
        "id": "ymW1emQIIL7Q"
      },
      "execution_count": 118,
      "outputs": []
    },
    {
      "cell_type": "code",
      "source": [
        "x_train,X_test,y_train,Y_test=train_test_split(x,y,test_size=0.2,random_state=20)\n",
        "x_test,x_val,y_test,y_val=train_test_split(X_test,Y_test,test_size=0.5,random_state=20)"
      ],
      "metadata": {
        "execution": {
          "iopub.status.busy": "2021-11-21T04:32:22.502658Z",
          "iopub.execute_input": "2021-11-21T04:32:22.503432Z",
          "iopub.status.idle": "2021-11-21T04:32:22.512425Z",
          "shell.execute_reply.started": "2021-11-21T04:32:22.503386Z",
          "shell.execute_reply": "2021-11-21T04:32:22.511412Z"
        },
        "trusted": true,
        "id": "gsHZqoWVIL7R"
      },
      "execution_count": 119,
      "outputs": []
    },
    {
      "cell_type": "markdown",
      "source": [
        "## Process train dataset"
      ],
      "metadata": {
        "id": "3YTE2czbIL7R"
      }
    },
    {
      "cell_type": "markdown",
      "source": [
        "num_word = the maximum number of words to keep, based on word frequency. Only the most common num_words-1 words will be kept.\n",
        "\n",
        "maxlen = Optional Int, maximum length of all sequences. If not provided, sequences will be padded to the length of the longest individual sequence.\n",
        "\n",
        "Tokenizer = Tokenize the data and convert the text to sequences.\n",
        "\n",
        "padding = String, 'pre' or 'post' (optional, defaults to 'pre'): pad either before or after each sequence.\n",
        "\n",
        "pad_sequences = Add padding to ensure that all the sequences have the same shape"
      ],
      "metadata": {
        "id": "NdWfY1NoIL7S"
      }
    },
    {
      "cell_type": "code",
      "source": [
        "max_words=1000\n",
        "max_len=172\n",
        "token=Tokenizer(num_words=max_words)\n",
        "token.fit_on_texts(df['sms'])\n",
        "sequences=token.texts_to_sequences(x_train)\n",
        "sequences_metrix=sequence.pad_sequences(sequences,padding='post',maxlen=max_len)"
      ],
      "metadata": {
        "execution": {
          "iopub.status.busy": "2021-11-21T04:32:22.515706Z",
          "iopub.execute_input": "2021-11-21T04:32:22.516272Z",
          "iopub.status.idle": "2021-11-21T04:32:22.761342Z",
          "shell.execute_reply.started": "2021-11-21T04:32:22.51624Z",
          "shell.execute_reply": "2021-11-21T04:32:22.760129Z"
        },
        "trusted": true,
        "id": "BNQy3nYAIL7S"
      },
      "execution_count": 120,
      "outputs": []
    },
    {
      "cell_type": "code",
      "source": [
        "val_sequences = token.texts_to_sequences(x_val)\n",
        "val_sequences_matrix = sequence.pad_sequences(val_sequences,padding='post',maxlen=max_len)"
      ],
      "metadata": {
        "id": "ttNTHc6-Ig6Q"
      },
      "execution_count": 121,
      "outputs": []
    },
    {
      "cell_type": "markdown",
      "source": [
        "## Process test dataset"
      ],
      "metadata": {
        "id": "b27hygR3IL7T"
      }
    },
    {
      "cell_type": "code",
      "source": [
        "# process test data\n",
        "test_sequences = token.texts_to_sequences(x_test)\n",
        "test_sequences_matrix = sequence.pad_sequences(test_sequences,padding='post',maxlen=max_len)"
      ],
      "metadata": {
        "execution": {
          "iopub.status.busy": "2021-11-21T04:32:22.762714Z",
          "iopub.execute_input": "2021-11-21T04:32:22.76297Z",
          "iopub.status.idle": "2021-11-21T04:32:22.802326Z",
          "shell.execute_reply.started": "2021-11-21T04:32:22.76293Z",
          "shell.execute_reply": "2021-11-21T04:32:22.801404Z"
        },
        "trusted": true,
        "id": "D3-eucRCIL7T"
      },
      "execution_count": 122,
      "outputs": []
    },
    {
      "cell_type": "code",
      "source": [
        "sequences_metrix.shape,y_train.shape # shape of train dataset"
      ],
      "metadata": {
        "execution": {
          "iopub.status.busy": "2021-11-21T04:32:25.965691Z",
          "iopub.execute_input": "2021-11-21T04:32:25.966018Z",
          "iopub.status.idle": "2021-11-21T04:32:25.973374Z",
          "shell.execute_reply.started": "2021-11-21T04:32:25.965979Z",
          "shell.execute_reply": "2021-11-21T04:32:25.972208Z"
        },
        "trusted": true,
        "colab": {
          "base_uri": "https://localhost:8080/"
        },
        "id": "KRZXTh_TIL7U",
        "outputId": "f61d32b7-38b8-4f59-a734-a5b3e889d733"
      },
      "execution_count": 123,
      "outputs": [
        {
          "output_type": "execute_result",
          "data": {
            "text/plain": [
              "((4457, 172), (4457,))"
            ]
          },
          "metadata": {},
          "execution_count": 123
        }
      ]
    },
    {
      "cell_type": "markdown",
      "source": [
        "## define model"
      ],
      "metadata": {
        "id": "_zXWEb7FIL7T"
      }
    },
    {
      "cell_type": "code",
      "source": [
        "val_sequences_matrix.shape,y_val.shape "
      ],
      "metadata": {
        "colab": {
          "base_uri": "https://localhost:8080/"
        },
        "id": "EWhGuQ6IIAK8",
        "outputId": "316ac3ca-8776-4284-faaf-ed64b3d5718f"
      },
      "execution_count": 124,
      "outputs": [
        {
          "output_type": "execute_result",
          "data": {
            "text/plain": [
              "((558, 172), (558,))"
            ]
          },
          "metadata": {},
          "execution_count": 124
        }
      ]
    },
    {
      "cell_type": "code",
      "source": [
        "test_sequences_matrix.shape,y_test.shape # shape of test dataset"
      ],
      "metadata": {
        "execution": {
          "iopub.status.busy": "2021-11-21T04:32:25.975033Z",
          "iopub.execute_input": "2021-11-21T04:32:25.97533Z",
          "iopub.status.idle": "2021-11-21T04:32:25.986952Z",
          "shell.execute_reply.started": "2021-11-21T04:32:25.975291Z",
          "shell.execute_reply": "2021-11-21T04:32:25.985684Z"
        },
        "trusted": true,
        "colab": {
          "base_uri": "https://localhost:8080/"
        },
        "id": "hwd_2WEVIL7U",
        "outputId": "23bf2560-4ea5-48c5-a267-1ee421c4711b"
      },
      "execution_count": 125,
      "outputs": [
        {
          "output_type": "execute_result",
          "data": {
            "text/plain": [
              "((557, 172), (557,))"
            ]
          },
          "metadata": {},
          "execution_count": 125
        }
      ]
    },
    {
      "cell_type": "code",
      "source": [
        "test_sequences_matrix"
      ],
      "metadata": {
        "colab": {
          "base_uri": "https://localhost:8080/"
        },
        "id": "YKcyWcbDWL_Z",
        "outputId": "c280aedd-4e8a-4d90-9d38-713eda6c1bcc"
      },
      "execution_count": 126,
      "outputs": [
        {
          "output_type": "execute_result",
          "data": {
            "text/plain": [
              "array([[ 43, 510,  41, ...,   0,   0,   0],\n",
              "       [477,   5,  43, ...,   0,   0,   0],\n",
              "       [476,  82,  33, ...,   0,   0,   0],\n",
              "       ...,\n",
              "       [  9,   7, 267, ...,   0,   0,   0],\n",
              "       [ 34, 264,  25, ...,   0,   0,   0],\n",
              "       [ 27,   3,  70, ...,   0,   0,   0]], dtype=int32)"
            ]
          },
          "metadata": {},
          "execution_count": 126
        }
      ]
    },
    {
      "cell_type": "code",
      "source": [
        "model=Sequential()\n",
        "\n",
        "# embedding layer\n",
        "model.add(Embedding(max_words,50,input_length=max_len,trainable=True))\n",
        "\n",
        "# lstm layer\n",
        "model.add(LSTM(100,return_sequences=True,dropout=0.5))\n",
        "model.add(Flatten()) \n",
        "# Dense layer\n",
        "model.add(Dense(200,activation='relu',name='hl1')) # hidden layer 1\n",
        "model.add(Dense(100,activation='relu',name='hl2')) # hidden layer 2\n",
        "model.add(Dense(1,activation='sigmoid',name='ol')) # output layer\n",
        "\n",
        "\n",
        "    \n",
        "# Add loss function, metrics, optimizer\n",
        "model.compile(optimizer='adam', loss='binary_crossentropy',metrics=[\"accuracy\"])\n",
        "\n",
        "# Adding callbacks\n",
        "#es = EarlyStopping(monitor='val_loss', mode='auto', verbose=1,patience=3)\n",
        "\n",
        "model.summary()"
      ],
      "metadata": {
        "execution": {
          "iopub.status.busy": "2021-11-21T04:32:22.805802Z",
          "iopub.execute_input": "2021-11-21T04:32:22.806062Z",
          "iopub.status.idle": "2021-11-21T04:32:25.963833Z",
          "shell.execute_reply.started": "2021-11-21T04:32:22.806022Z",
          "shell.execute_reply": "2021-11-21T04:32:25.963032Z"
        },
        "trusted": true,
        "colab": {
          "base_uri": "https://localhost:8080/"
        },
        "id": "64hB0Tb0IL7T",
        "outputId": "144a1386-e11a-4c77-9d71-0e2397961ee6"
      },
      "execution_count": 127,
      "outputs": [
        {
          "output_type": "stream",
          "name": "stdout",
          "text": [
            "Model: \"sequential_5\"\n",
            "_________________________________________________________________\n",
            " Layer (type)                Output Shape              Param #   \n",
            "=================================================================\n",
            " embedding_5 (Embedding)     (None, 172, 50)           50000     \n",
            "                                                                 \n",
            " lstm_3 (LSTM)               (None, 172, 100)          60400     \n",
            "                                                                 \n",
            " flatten_5 (Flatten)         (None, 17200)             0         \n",
            "                                                                 \n",
            " hl1 (Dense)                 (None, 200)               3440200   \n",
            "                                                                 \n",
            " hl2 (Dense)                 (None, 100)               20100     \n",
            "                                                                 \n",
            " ol (Dense)                  (None, 1)                 101       \n",
            "                                                                 \n",
            "=================================================================\n",
            "Total params: 3,570,801\n",
            "Trainable params: 3,570,801\n",
            "Non-trainable params: 0\n",
            "_________________________________________________________________\n"
          ]
        }
      ]
    },
    {
      "cell_type": "code",
      "source": [
        "checkpoint_filepath = \"LSTM_bestmodel_epoch{epoch:03d}.hdf5\" \n",
        "model_checkpoint_callback = tf.keras.callbacks.ModelCheckpoint(filepath=checkpoint_filepath, \\\n",
        "                                                               save_weights_only=False, monitor='val_loss', \\\n",
        "                                                               mode='min')"
      ],
      "metadata": {
        "id": "iFGqhuZ7MeL1"
      },
      "execution_count": 128,
      "outputs": []
    },
    {
      "cell_type": "markdown",
      "source": [
        "## Train model"
      ],
      "metadata": {
        "id": "SR812fgnIL7V"
      }
    },
    {
      "cell_type": "code",
      "source": [
        "# Train model\n",
        "tik = time.time()\n",
        "#history=model.fit(sequences_metrix,y_train,batch_size=150,epochs=20,callbacks=[es],validation_split=0.2,verbose=1)\n",
        "history=model.fit( sequences_metrix, y_train, \\\n",
        "                   validation_data=(val_sequences_matrix,y_val), \\\n",
        "                   batch_size=64, epochs=20 )\n",
        "tok = time.time()\n",
        "print(tik, tok, tok-tik)"
      ],
      "metadata": {
        "execution": {
          "iopub.status.busy": "2021-11-21T04:32:25.989921Z",
          "iopub.execute_input": "2021-11-21T04:32:25.990961Z",
          "iopub.status.idle": "2021-11-21T04:32:34.578092Z",
          "shell.execute_reply.started": "2021-11-21T04:32:25.99092Z",
          "shell.execute_reply": "2021-11-21T04:32:34.577024Z"
        },
        "trusted": true,
        "colab": {
          "base_uri": "https://localhost:8080/"
        },
        "id": "7_zOC0esIL7V",
        "outputId": "05a1c852-ed3a-413f-e4ec-f68e33750136"
      },
      "execution_count": 129,
      "outputs": [
        {
          "output_type": "stream",
          "name": "stdout",
          "text": [
            "Epoch 1/20\n",
            "70/70 [==============================] - 3s 19ms/step - loss: 0.2151 - accuracy: 0.9273 - val_loss: 0.0633 - val_accuracy: 0.9821\n",
            "Epoch 2/20\n",
            "70/70 [==============================] - 1s 12ms/step - loss: 0.0552 - accuracy: 0.9836 - val_loss: 0.0544 - val_accuracy: 0.9857\n",
            "Epoch 3/20\n",
            "70/70 [==============================] - 1s 12ms/step - loss: 0.0359 - accuracy: 0.9895 - val_loss: 0.0478 - val_accuracy: 0.9892\n",
            "Epoch 4/20\n",
            "70/70 [==============================] - 1s 12ms/step - loss: 0.0238 - accuracy: 0.9930 - val_loss: 0.0453 - val_accuracy: 0.9946\n",
            "Epoch 5/20\n",
            "70/70 [==============================] - 1s 12ms/step - loss: 0.0175 - accuracy: 0.9951 - val_loss: 0.0553 - val_accuracy: 0.9875\n",
            "Epoch 6/20\n",
            "70/70 [==============================] - 1s 12ms/step - loss: 0.0140 - accuracy: 0.9955 - val_loss: 0.0874 - val_accuracy: 0.9857\n",
            "Epoch 7/20\n",
            "70/70 [==============================] - 1s 12ms/step - loss: 0.0184 - accuracy: 0.9942 - val_loss: 0.0585 - val_accuracy: 0.9875\n",
            "Epoch 8/20\n",
            "70/70 [==============================] - 1s 15ms/step - loss: 0.0126 - accuracy: 0.9964 - val_loss: 0.0746 - val_accuracy: 0.9875\n",
            "Epoch 9/20\n",
            "70/70 [==============================] - 1s 12ms/step - loss: 0.0101 - accuracy: 0.9973 - val_loss: 0.0548 - val_accuracy: 0.9928\n",
            "Epoch 10/20\n",
            "70/70 [==============================] - 1s 12ms/step - loss: 0.0076 - accuracy: 0.9975 - val_loss: 0.0731 - val_accuracy: 0.9910\n",
            "Epoch 11/20\n",
            "70/70 [==============================] - 1s 12ms/step - loss: 0.0064 - accuracy: 0.9980 - val_loss: 0.0939 - val_accuracy: 0.9875\n",
            "Epoch 12/20\n",
            "70/70 [==============================] - 1s 12ms/step - loss: 0.0063 - accuracy: 0.9987 - val_loss: 0.1268 - val_accuracy: 0.9857\n",
            "Epoch 13/20\n",
            "70/70 [==============================] - 1s 12ms/step - loss: 0.0045 - accuracy: 0.9987 - val_loss: 0.1513 - val_accuracy: 0.9839\n",
            "Epoch 14/20\n",
            "70/70 [==============================] - 1s 12ms/step - loss: 0.0059 - accuracy: 0.9987 - val_loss: 0.0973 - val_accuracy: 0.9875\n",
            "Epoch 15/20\n",
            "70/70 [==============================] - 1s 12ms/step - loss: 0.0064 - accuracy: 0.9980 - val_loss: 0.1052 - val_accuracy: 0.9875\n",
            "Epoch 16/20\n",
            "70/70 [==============================] - 1s 12ms/step - loss: 0.0020 - accuracy: 0.9998 - val_loss: 0.1112 - val_accuracy: 0.9892\n",
            "Epoch 17/20\n",
            "70/70 [==============================] - 1s 12ms/step - loss: 0.0071 - accuracy: 0.9980 - val_loss: 0.1085 - val_accuracy: 0.9892\n",
            "Epoch 18/20\n",
            "70/70 [==============================] - 1s 12ms/step - loss: 0.0055 - accuracy: 0.9989 - val_loss: 0.0994 - val_accuracy: 0.9839\n",
            "Epoch 19/20\n",
            "70/70 [==============================] - 1s 12ms/step - loss: 0.0056 - accuracy: 0.9984 - val_loss: 0.1205 - val_accuracy: 0.9839\n",
            "Epoch 20/20\n",
            "70/70 [==============================] - 1s 12ms/step - loss: 0.0022 - accuracy: 0.9996 - val_loss: 0.1369 - val_accuracy: 0.9821\n",
            "1648136685.20032 1648136707.2851682 22.084848165512085\n"
          ]
        }
      ]
    },
    {
      "cell_type": "code",
      "source": [
        "# Plot training & validation loss values \n",
        "plt.figure(figsize=(15,5)) \n",
        "plt.plot(history.history['loss']) \n",
        "plt.plot(history.history['val_loss']) \n",
        "plt.title('Model loss: mean squared error') \n",
        "plt.ylabel('Loss') \n",
        "plt.xlabel('Epoch') \n",
        "plt.legend(['train', 'val'], loc='upper right') \n",
        "plt.grid()\n",
        "plt.show()"
      ],
      "metadata": {
        "colab": {
          "base_uri": "https://localhost:8080/",
          "height": 350
        },
        "id": "zj5do5KBSaOE",
        "outputId": "23e0e333-f60e-484c-f277-c66098eaec96"
      },
      "execution_count": 130,
      "outputs": [
        {
          "output_type": "display_data",
          "data": {
            "text/plain": [
              "<Figure size 1080x360 with 1 Axes>"
            ],
            "image/png": "[encoded data removed]"
          },
          "metadata": {
            "needs_background": "light"
          }
        }
      ]
    },
    {
      "cell_type": "code",
      "source": [
        "#import os \n",
        "#bestmodel_path = max( [f for f in os.listdir(\".\") if f. startswith('LSTM_bestmodel_') and f.endswith(\".hdf5\") ]) \n",
        "#best_model = tf.keras.models.load_model(bestmodel_path, compile=True) \n",
        "#print( f\"The best model: {bestmodel_path}\" ) "
      ],
      "metadata": {
        "id": "DXNCNlEOQWMh"
      },
      "execution_count": 131,
      "outputs": []
    },
    {
      "cell_type": "markdown",
      "source": [
        "## Evaluation model"
      ],
      "metadata": {
        "id": "gAEDgyCQIL7V"
      }
    },
    {
      "cell_type": "code",
      "source": [
        "# evaluation model\n",
        "train_acc_lstm=model.evaluate(sequences_metrix,y_train,verbose=1) # train dataset evaluate\n",
        "test_acc_lstm=model.evaluate(test_sequences_matrix,y_test,verbose=1) # test dataset evaluate\n",
        "time_lstm = tok-tik"
      ],
      "metadata": {
        "execution": {
          "iopub.status.busy": "2021-11-21T04:32:34.579871Z",
          "iopub.execute_input": "2021-11-21T04:32:34.580295Z",
          "iopub.status.idle": "2021-11-21T04:32:36.25832Z",
          "shell.execute_reply.started": "2021-11-21T04:32:34.580245Z",
          "shell.execute_reply": "2021-11-21T04:32:36.257296Z"
        },
        "trusted": true,
        "colab": {
          "base_uri": "https://localhost:8080/"
        },
        "id": "3ytPNTJqIL7V",
        "outputId": "f52eac1c-c567-45e3-c568-fe9325ed0282"
      },
      "execution_count": 132,
      "outputs": [
        {
          "output_type": "stream",
          "name": "stdout",
          "text": [
            "140/140 [==============================] - 1s 5ms/step - loss: 0.0012 - accuracy: 0.9998\n",
            "18/18 [==============================] - 0s 4ms/step - loss: 0.1111 - accuracy: 0.9856\n"
          ]
        }
      ]
    },
    {
      "cell_type": "code",
      "source": [
        "print(\"Loss:{:.3f} and Accuracy:{:.3f}\".format(train_acc_lstm[0],train_acc_lstm[1])) # train dataset Loss and Accurancy"
      ],
      "metadata": {
        "execution": {
          "iopub.status.busy": "2021-11-21T04:32:36.26037Z",
          "iopub.execute_input": "2021-11-21T04:32:36.261711Z",
          "iopub.status.idle": "2021-11-21T04:32:36.26903Z",
          "shell.execute_reply.started": "2021-11-21T04:32:36.26165Z",
          "shell.execute_reply": "2021-11-21T04:32:36.26759Z"
        },
        "trusted": true,
        "colab": {
          "base_uri": "https://localhost:8080/"
        },
        "id": "gE6ngDrQIL7W",
        "outputId": "89e2d65e-4535-4bd8-cff5-4c51b9cf0fcb"
      },
      "execution_count": 133,
      "outputs": [
        {
          "output_type": "stream",
          "name": "stdout",
          "text": [
            "Loss:0.001 and Accuracy:1.000\n"
          ]
        }
      ]
    },
    {
      "cell_type": "code",
      "source": [
        "print(\"Loss:{:.3f} and Accuracy:{:.3f}\".format(test_acc_lstm[0],test_acc_lstm[1])) # test dataset Loss and Accurancy"
      ],
      "metadata": {
        "execution": {
          "iopub.status.busy": "2021-11-21T04:32:36.27142Z",
          "iopub.execute_input": "2021-11-21T04:32:36.272714Z",
          "iopub.status.idle": "2021-11-21T04:32:36.282179Z",
          "shell.execute_reply.started": "2021-11-21T04:32:36.27267Z",
          "shell.execute_reply": "2021-11-21T04:32:36.280742Z"
        },
        "trusted": true,
        "colab": {
          "base_uri": "https://localhost:8080/"
        },
        "id": "0nL-YqFkIL7W",
        "outputId": "01557804-ddf0-4886-a037-3bccd636c03a"
      },
      "execution_count": 134,
      "outputs": [
        {
          "output_type": "stream",
          "name": "stdout",
          "text": [
            "Loss:0.111 and Accuracy:0.986\n"
          ]
        }
      ]
    },
    {
      "cell_type": "markdown",
      "source": [
        "## plot training history"
      ],
      "metadata": {
        "id": "t4AeooWAIL7W"
      }
    },
    {
      "cell_type": "code",
      "source": [
        "# plot training history\n",
        "plt.plot(history.history['accuracy'], label='train')\n",
        "plt.plot(history.history['val_accuracy'], label='test')\n",
        "plt.legend()\n",
        "plt.show()"
      ],
      "metadata": {
        "execution": {
          "iopub.status.busy": "2021-11-21T04:32:36.28379Z",
          "iopub.execute_input": "2021-11-21T04:32:36.28438Z",
          "iopub.status.idle": "2021-11-21T04:32:36.564407Z",
          "shell.execute_reply.started": "2021-11-21T04:32:36.284308Z",
          "shell.execute_reply": "2021-11-21T04:32:36.563344Z"
        },
        "trusted": true,
        "colab": {
          "base_uri": "https://localhost:8080/",
          "height": 265
        },
        "id": "Q_fHcvCcIL7W",
        "outputId": "081b2e9b-acba-4b94-f65b-7dc8e0318713"
      },
      "execution_count": 135,
      "outputs": [
        {
          "output_type": "display_data",
          "data": {
            "text/plain": [
              "<Figure size 432x288 with 1 Axes>"
            ],
            "image/png": "[encoded data removed]"
          },
          "metadata": {
            "needs_background": "light"
          }
        }
      ]
    },
    {
      "cell_type": "code",
      "source": [
        "# SimpleRNN model\n",
        "model = Sequential()\n",
        "\n",
        "# embedding layer\n",
        "model.add(Embedding(max_words,50,input_length=max_len,trainable=True))\n",
        "\n",
        "# lstm layer\n",
        "model.add(SimpleRNN(100,return_sequences=True,dropout=0.5))\n",
        "model.add(Flatten()) \n",
        "# Dense layer\n",
        "model.add(Dense(200,activation='relu',name='hl1')) # hidden layer 1\n",
        "model.add(Dense(100,activation='relu',name='hl2')) # hidden layer 2\n",
        "model.add(Dense(1,activation='sigmoid',name='ol')) # output layer\n",
        "\n",
        "\n",
        "    \n",
        "# Add loss function, metrics, optimizer\n",
        "model.compile(optimizer='adam', loss='binary_crossentropy',metrics=[\"accuracy\"])\n",
        "\n",
        "# Adding callbacks\n",
        "#es = EarlyStopping(monitor='val_loss', mode='auto', verbose=1,patience=3)\n",
        "\n",
        "model.summary()"
      ],
      "metadata": {
        "colab": {
          "base_uri": "https://localhost:8080/"
        },
        "id": "siffyeHOIL7W",
        "outputId": "d85209a9-8e42-4355-e6a1-4f9930b3a8d0"
      },
      "execution_count": 136,
      "outputs": [
        {
          "output_type": "stream",
          "name": "stdout",
          "text": [
            "Model: \"sequential_6\"\n",
            "_________________________________________________________________\n",
            " Layer (type)                Output Shape              Param #   \n",
            "=================================================================\n",
            " embedding_6 (Embedding)     (None, 172, 50)           50000     \n",
            "                                                                 \n",
            " simple_rnn_1 (SimpleRNN)    (None, 172, 100)          15100     \n",
            "                                                                 \n",
            " flatten_6 (Flatten)         (None, 17200)             0         \n",
            "                                                                 \n",
            " hl1 (Dense)                 (None, 200)               3440200   \n",
            "                                                                 \n",
            " hl2 (Dense)                 (None, 100)               20100     \n",
            "                                                                 \n",
            " ol (Dense)                  (None, 1)                 101       \n",
            "                                                                 \n",
            "=================================================================\n",
            "Total params: 3,525,501\n",
            "Trainable params: 3,525,501\n",
            "Non-trainable params: 0\n",
            "_________________________________________________________________\n"
          ]
        }
      ]
    },
    {
      "cell_type": "code",
      "source": [
        "# Train model\n",
        "tik = time.time()\n",
        "#history=model.fit(sequences_metrix,y_train,batch_size=150,epochs=20,callbacks=[es],validation_split=0.2,verbose=1)\n",
        "history=model.fit( sequences_metrix, y_train, \\\n",
        "                   validation_data=(val_sequences_matrix,y_val), \\\n",
        "                   batch_size=64, epochs=20 )\n",
        "tok = time.time()\n",
        "print(tik, tok, tok-tik)"
      ],
      "metadata": {
        "colab": {
          "base_uri": "https://localhost:8080/"
        },
        "id": "IHRGoB_lLj9e",
        "outputId": "290660ed-2c43-4fea-d6da-927c91b9bb3c"
      },
      "execution_count": 137,
      "outputs": [
        {
          "output_type": "stream",
          "name": "stdout",
          "text": [
            "Epoch 1/20\n",
            "70/70 [==============================] - 13s 169ms/step - loss: 0.1967 - accuracy: 0.9190 - val_loss: 0.0761 - val_accuracy: 0.9785\n",
            "Epoch 2/20\n",
            "70/70 [==============================] - 11s 158ms/step - loss: 0.0597 - accuracy: 0.9812 - val_loss: 0.0630 - val_accuracy: 0.9803\n",
            "Epoch 3/20\n",
            "70/70 [==============================] - 11s 157ms/step - loss: 0.0399 - accuracy: 0.9897 - val_loss: 0.0564 - val_accuracy: 0.9839\n",
            "Epoch 4/20\n",
            "70/70 [==============================] - 11s 160ms/step - loss: 0.0325 - accuracy: 0.9897 - val_loss: 0.0745 - val_accuracy: 0.9875\n",
            "Epoch 5/20\n",
            "70/70 [==============================] - 11s 163ms/step - loss: 0.0252 - accuracy: 0.9935 - val_loss: 0.0882 - val_accuracy: 0.9839\n",
            "Epoch 6/20\n",
            "70/70 [==============================] - 11s 158ms/step - loss: 0.0379 - accuracy: 0.9919 - val_loss: 0.1154 - val_accuracy: 0.9821\n",
            "Epoch 7/20\n",
            "70/70 [==============================] - 11s 159ms/step - loss: 0.0367 - accuracy: 0.9915 - val_loss: 0.0803 - val_accuracy: 0.9839\n",
            "Epoch 8/20\n",
            "70/70 [==============================] - 11s 164ms/step - loss: 0.0328 - accuracy: 0.9910 - val_loss: 0.1167 - val_accuracy: 0.9767\n",
            "Epoch 9/20\n",
            "70/70 [==============================] - 11s 157ms/step - loss: 0.0319 - accuracy: 0.9921 - val_loss: 0.1034 - val_accuracy: 0.9821\n",
            "Epoch 10/20\n",
            "70/70 [==============================] - 11s 157ms/step - loss: 0.0188 - accuracy: 0.9939 - val_loss: 0.1136 - val_accuracy: 0.9857\n",
            "Epoch 11/20\n",
            "70/70 [==============================] - 11s 158ms/step - loss: 0.0167 - accuracy: 0.9957 - val_loss: 0.1340 - val_accuracy: 0.9857\n",
            "Epoch 12/20\n",
            "70/70 [==============================] - 11s 164ms/step - loss: 0.0133 - accuracy: 0.9969 - val_loss: 0.1039 - val_accuracy: 0.9803\n",
            "Epoch 13/20\n",
            "70/70 [==============================] - 11s 160ms/step - loss: 0.0115 - accuracy: 0.9969 - val_loss: 0.0737 - val_accuracy: 0.9875\n",
            "Epoch 14/20\n",
            "70/70 [==============================] - 11s 160ms/step - loss: 0.0131 - accuracy: 0.9960 - val_loss: 0.0938 - val_accuracy: 0.9821\n",
            "Epoch 15/20\n",
            "70/70 [==============================] - 11s 159ms/step - loss: 0.0099 - accuracy: 0.9957 - val_loss: 0.1069 - val_accuracy: 0.9839\n",
            "Epoch 16/20\n",
            "70/70 [==============================] - 11s 160ms/step - loss: 0.0479 - accuracy: 0.9865 - val_loss: 0.1422 - val_accuracy: 0.9749\n",
            "Epoch 17/20\n",
            "70/70 [==============================] - 11s 164ms/step - loss: 0.1888 - accuracy: 0.9780 - val_loss: 0.0512 - val_accuracy: 0.9839\n",
            "Epoch 18/20\n",
            "70/70 [==============================] - 11s 158ms/step - loss: 0.0223 - accuracy: 0.9937 - val_loss: 0.0643 - val_accuracy: 0.9821\n",
            "Epoch 19/20\n",
            "70/70 [==============================] - 11s 155ms/step - loss: 0.0150 - accuracy: 0.9953 - val_loss: 0.0893 - val_accuracy: 0.9785\n",
            "Epoch 20/20\n",
            "70/70 [==============================] - 11s 156ms/step - loss: 0.0131 - accuracy: 0.9960 - val_loss: 0.1026 - val_accuracy: 0.9803\n",
            "1648136708.672894 1648136933.678865 225.00597095489502\n"
          ]
        }
      ]
    },
    {
      "cell_type": "code",
      "source": [
        "# Plot training & validation loss values \n",
        "plt.figure(figsize=(15,5)) \n",
        "plt.plot(history.history['loss']) \n",
        "plt.plot(history.history['val_loss']) \n",
        "plt.title('Model loss: mean squared error') \n",
        "plt.ylabel('Loss') \n",
        "plt.xlabel('Epoch') \n",
        "plt.legend(['train', 'val'], loc='upper right') \n",
        "plt.grid()\n",
        "plt.show()"
      ],
      "metadata": {
        "colab": {
          "base_uri": "https://localhost:8080/",
          "height": 350
        },
        "id": "e5HRUKnSaFs_",
        "outputId": "eb408848-c502-4b4b-8205-f155fca94430"
      },
      "execution_count": 138,
      "outputs": [
        {
          "output_type": "display_data",
          "data": {
            "text/plain": [
              "<Figure size 1080x360 with 1 Axes>"
            ],
            "image/png": "[encoded data removed]"
          },
          "metadata": {
            "needs_background": "light"
          }
        }
      ]
    },
    {
      "cell_type": "code",
      "source": [
        "# evaluation model\n",
        "train_acc_rnn=model.evaluate(sequences_metrix,y_train,verbose=1) # train dataset evaluate\n",
        "test_acc_rnn=model.evaluate(test_sequences_matrix,y_test,verbose=1) # test dataset evaluate\n",
        "time_rnn = tok-tik"
      ],
      "metadata": {
        "colab": {
          "base_uri": "https://localhost:8080/"
        },
        "id": "rYkDWKFULe3q",
        "outputId": "b0ee34c0-c278-4418-e79c-bd9803a2da8b"
      },
      "execution_count": 139,
      "outputs": [
        {
          "output_type": "stream",
          "name": "stdout",
          "text": [
            "140/140 [==============================] - 2s 15ms/step - loss: 0.0092 - accuracy: 0.9980\n",
            "18/18 [==============================] - 0s 15ms/step - loss: 0.0645 - accuracy: 0.9856\n"
          ]
        }
      ]
    },
    {
      "cell_type": "code",
      "source": [
        "print(\"Loss:{:.3f} and Accuracy:{:.3f}\".format(train_acc_rnn[0],train_acc_rnn[1])) # train dataset Loss and Accurancy\n",
        "print(\"Loss:{:.3f} and Accuracy:{:.3f}\".format(test_acc_rnn[0],test_acc_rnn[1])) # test dataset Loss and Accurancy"
      ],
      "metadata": {
        "colab": {
          "base_uri": "https://localhost:8080/"
        },
        "id": "V3pg8cntMUOU",
        "outputId": "e15046ce-03e5-4374-b82b-857acf383c29"
      },
      "execution_count": 142,
      "outputs": [
        {
          "output_type": "stream",
          "name": "stdout",
          "text": [
            "Loss:0.009 and Accuracy:0.998\n",
            "Loss:0.064 and Accuracy:0.986\n"
          ]
        }
      ]
    },
    {
      "cell_type": "code",
      "source": [
        "# plot training history\n",
        "plt.plot(history.history['accuracy'], label='train')\n",
        "plt.plot(history.history['val_accuracy'], label='test')\n",
        "plt.legend()\n",
        "plt.show()"
      ],
      "metadata": {
        "colab": {
          "base_uri": "https://localhost:8080/",
          "height": 267
        },
        "id": "tLNISfi8Mc7l",
        "outputId": "1f39f721-9e5e-4f84-cac7-ea473fa01853"
      },
      "execution_count": 143,
      "outputs": [
        {
          "output_type": "display_data",
          "data": {
            "text/plain": [
              "<Figure size 432x288 with 1 Axes>"
            ],
            "image/png": "[encoded data removed]"
          },
          "metadata": {
            "needs_background": "light"
          }
        }
      ]
    },
    {
      "cell_type": "code",
      "source": [
        "# GRU model\n",
        "model = Sequential()\n",
        "\n",
        "# embedding layer\n",
        "model.add(Embedding(max_words,50,input_length=max_len,trainable=True))\n",
        "\n",
        "# lstm layer\n",
        "model.add(GRU(100,return_sequences=True,dropout=0.5))\n",
        "model.add(Flatten()) \n",
        "# Dense layer\n",
        "model.add(Dense(200,activation='relu',name='hl1')) # hidden layer 1\n",
        "model.add(Dense(100,activation='relu',name='hl2')) # hidden layer 2\n",
        "model.add(Dense(1,activation='sigmoid',name='ol')) # output layer\n",
        "\n",
        "\n",
        "    \n",
        "# Add loss function, metrics, optimizer\n",
        "model.compile(optimizer='adam', loss='binary_crossentropy',metrics=[\"accuracy\"])\n",
        "\n",
        "# Adding callbacks\n",
        "#es = EarlyStopping(monitor='val_loss', mode='auto', verbose=1,patience=3)\n",
        "\n",
        "model.summary()"
      ],
      "metadata": {
        "colab": {
          "base_uri": "https://localhost:8080/"
        },
        "id": "XRt15NbxMfaH",
        "outputId": "c23c8464-8ec4-4492-e0c9-796ad7034dfe"
      },
      "execution_count": 144,
      "outputs": [
        {
          "output_type": "stream",
          "name": "stdout",
          "text": [
            "Model: \"sequential_7\"\n",
            "_________________________________________________________________\n",
            " Layer (type)                Output Shape              Param #   \n",
            "=================================================================\n",
            " embedding_7 (Embedding)     (None, 172, 50)           50000     \n",
            "                                                                 \n",
            " gru_1 (GRU)                 (None, 172, 100)          45600     \n",
            "                                                                 \n",
            " flatten_7 (Flatten)         (None, 17200)             0         \n",
            "                                                                 \n",
            " hl1 (Dense)                 (None, 200)               3440200   \n",
            "                                                                 \n",
            " hl2 (Dense)                 (None, 100)               20100     \n",
            "                                                                 \n",
            " ol (Dense)                  (None, 1)                 101       \n",
            "                                                                 \n",
            "=================================================================\n",
            "Total params: 3,556,001\n",
            "Trainable params: 3,556,001\n",
            "Non-trainable params: 0\n",
            "_________________________________________________________________\n"
          ]
        }
      ]
    },
    {
      "cell_type": "code",
      "source": [
        "# Train model\n",
        "tik = time.time()\n",
        "#history=model.fit(sequences_metrix,y_train,batch_size=150,epochs=20,callbacks=[es],validation_split=0.2,verbose=1)\n",
        "history=model.fit( sequences_metrix, y_train, \\\n",
        "                   validation_data=(val_sequences_matrix,y_val), \\\n",
        "                   batch_size=64, epochs=20 )\n",
        "tok = time.time()\n",
        "print(tik, tok, tok-tik)"
      ],
      "metadata": {
        "colab": {
          "base_uri": "https://localhost:8080/"
        },
        "id": "tHQi0OWSM-A6",
        "outputId": "f289880c-d686-4fe2-a2d7-92837a406361"
      },
      "execution_count": 145,
      "outputs": [
        {
          "output_type": "stream",
          "name": "stdout",
          "text": [
            "Epoch 1/20\n",
            "70/70 [==============================] - 3s 22ms/step - loss: 0.1997 - accuracy: 0.9287 - val_loss: 0.0737 - val_accuracy: 0.9767\n",
            "Epoch 2/20\n",
            "70/70 [==============================] - 1s 10ms/step - loss: 0.0541 - accuracy: 0.9854 - val_loss: 0.0526 - val_accuracy: 0.9875\n",
            "Epoch 3/20\n",
            "70/70 [==============================] - 1s 10ms/step - loss: 0.0357 - accuracy: 0.9890 - val_loss: 0.0604 - val_accuracy: 0.9875\n",
            "Epoch 4/20\n",
            "70/70 [==============================] - 1s 10ms/step - loss: 0.0257 - accuracy: 0.9926 - val_loss: 0.0522 - val_accuracy: 0.9875\n",
            "Epoch 5/20\n",
            "70/70 [==============================] - 1s 11ms/step - loss: 0.0189 - accuracy: 0.9946 - val_loss: 0.0831 - val_accuracy: 0.9839\n",
            "Epoch 6/20\n",
            "70/70 [==============================] - 1s 11ms/step - loss: 0.0136 - accuracy: 0.9962 - val_loss: 0.0732 - val_accuracy: 0.9875\n",
            "Epoch 7/20\n",
            "70/70 [==============================] - 1s 11ms/step - loss: 0.0103 - accuracy: 0.9969 - val_loss: 0.0657 - val_accuracy: 0.9928\n",
            "Epoch 8/20\n",
            "70/70 [==============================] - 1s 10ms/step - loss: 0.0100 - accuracy: 0.9971 - val_loss: 0.0976 - val_accuracy: 0.9892\n",
            "Epoch 9/20\n",
            "70/70 [==============================] - 1s 11ms/step - loss: 0.0085 - accuracy: 0.9975 - val_loss: 0.1002 - val_accuracy: 0.9839\n",
            "Epoch 10/20\n",
            "70/70 [==============================] - 1s 11ms/step - loss: 0.0081 - accuracy: 0.9975 - val_loss: 0.1157 - val_accuracy: 0.9875\n",
            "Epoch 11/20\n",
            "70/70 [==============================] - 1s 10ms/step - loss: 0.0206 - accuracy: 0.9942 - val_loss: 0.1101 - val_accuracy: 0.9857\n",
            "Epoch 12/20\n",
            "70/70 [==============================] - 1s 10ms/step - loss: 0.0078 - accuracy: 0.9978 - val_loss: 0.1040 - val_accuracy: 0.9875\n",
            "Epoch 13/20\n",
            "70/70 [==============================] - 1s 11ms/step - loss: 0.0077 - accuracy: 0.9978 - val_loss: 0.1032 - val_accuracy: 0.9910\n",
            "Epoch 14/20\n",
            "70/70 [==============================] - 1s 10ms/step - loss: 0.0056 - accuracy: 0.9982 - val_loss: 0.1298 - val_accuracy: 0.9875\n",
            "Epoch 15/20\n",
            "70/70 [==============================] - 1s 10ms/step - loss: 0.0030 - accuracy: 0.9989 - val_loss: 0.1288 - val_accuracy: 0.9910\n",
            "Epoch 16/20\n",
            "70/70 [==============================] - 1s 10ms/step - loss: 0.0023 - accuracy: 0.9996 - val_loss: 0.1764 - val_accuracy: 0.9839\n",
            "Epoch 17/20\n",
            "70/70 [==============================] - 1s 10ms/step - loss: 0.0088 - accuracy: 0.9980 - val_loss: 0.1085 - val_accuracy: 0.9892\n",
            "Epoch 18/20\n",
            "70/70 [==============================] - 1s 10ms/step - loss: 0.0030 - accuracy: 0.9989 - val_loss: 0.1134 - val_accuracy: 0.9875\n",
            "Epoch 19/20\n",
            "70/70 [==============================] - 1s 11ms/step - loss: 0.0025 - accuracy: 0.9993 - val_loss: 0.1211 - val_accuracy: 0.9857\n",
            "Epoch 20/20\n",
            "70/70 [==============================] - 1s 10ms/step - loss: 0.0028 - accuracy: 0.9993 - val_loss: 0.1562 - val_accuracy: 0.9839\n",
            "1648137174.4947197 1648137191.722726 17.22800636291504\n"
          ]
        }
      ]
    },
    {
      "cell_type": "code",
      "source": [
        "# Plot training & validation loss values \n",
        "plt.figure(figsize=(15,5)) \n",
        "plt.plot(history.history['loss']) \n",
        "plt.plot(history.history['val_loss']) \n",
        "plt.title('Model loss: mean squared error') \n",
        "plt.ylabel('Loss') \n",
        "plt.xlabel('Epoch') \n",
        "plt.legend(['train', 'val'], loc='upper right') \n",
        "plt.grid()\n",
        "plt.show()"
      ],
      "metadata": {
        "colab": {
          "base_uri": "https://localhost:8080/",
          "height": 350
        },
        "id": "HRDRynPraIHg",
        "outputId": "53c664fd-72ea-46e6-ed3e-11ea07a6f18f"
      },
      "execution_count": 146,
      "outputs": [
        {
          "output_type": "display_data",
          "data": {
            "text/plain": [
              "<Figure size 1080x360 with 1 Axes>"
            ],
            "image/png": "[encoded data removed]"
          },
          "metadata": {
            "needs_background": "light"
          }
        }
      ]
    },
    {
      "cell_type": "code",
      "source": [
        "# evaluation model\n",
        "train_acc_gru=model.evaluate(sequences_metrix,y_train,verbose=1) # train dataset evaluate\n",
        "test_acc_gru=model.evaluate(test_sequences_matrix,y_test,verbose=1) # test dataset evaluate\n",
        "time_gru = tok-tik"
      ],
      "metadata": {
        "colab": {
          "base_uri": "https://localhost:8080/"
        },
        "id": "cBvS6joRNgd_",
        "outputId": "fb4d85c1-a209-4a71-e00f-c250d40c279b"
      },
      "execution_count": 147,
      "outputs": [
        {
          "output_type": "stream",
          "name": "stdout",
          "text": [
            "140/140 [==============================] - 1s 5ms/step - loss: 0.0013 - accuracy: 0.9998\n",
            "18/18 [==============================] - 0s 4ms/step - loss: 0.1191 - accuracy: 0.9838\n"
          ]
        }
      ]
    },
    {
      "cell_type": "code",
      "source": [
        "print(\"Loss:{:.3f} and Accuracy:{:.3f}\".format(train_acc_gru[0],train_acc_gru[1])) # train dataset Loss and Accurancy\n",
        "print(\"Loss:{:.3f} and Accuracy:{:.3f}\".format(test_acc_gru[0],test_acc_gru[1])) # test dataset Loss and Accurancy"
      ],
      "metadata": {
        "colab": {
          "base_uri": "https://localhost:8080/"
        },
        "id": "Tdpz9ZS0NrCh",
        "outputId": "adacdff3-da50-4818-bafe-5765b7420ac3"
      },
      "execution_count": 148,
      "outputs": [
        {
          "output_type": "stream",
          "name": "stdout",
          "text": [
            "Loss:0.001 and Accuracy:1.000\n",
            "Loss:0.119 and Accuracy:0.984\n"
          ]
        }
      ]
    },
    {
      "cell_type": "code",
      "source": [
        "# plot training history\n",
        "plt.plot(history.history['accuracy'], label='train')\n",
        "plt.plot(history.history['val_accuracy'], label='test')\n",
        "plt.legend()\n",
        "plt.show()"
      ],
      "metadata": {
        "colab": {
          "base_uri": "https://localhost:8080/",
          "height": 265
        },
        "id": "DRuWx66TN1Wm",
        "outputId": "cffe4e2e-a10e-4275-8dbe-323eef48c3d6"
      },
      "execution_count": 149,
      "outputs": [
        {
          "output_type": "display_data",
          "data": {
            "text/plain": [
              "<Figure size 432x288 with 1 Axes>"
            ],
            "image/png": "[encoded data removed]"
          },
          "metadata": {
            "needs_background": "light"
          }
        }
      ]
    },
    {
      "cell_type": "markdown",
      "source": [
        "# Traditional ML by NB vs SVM"
      ],
      "metadata": {
        "id": "5Wx0dDT6bTlZ"
      }
    },
    {
      "cell_type": "code",
      "source": [
        "df=pd.read_csv('https://raw.githubusercontent.com/khwanck/DeepMyeSequence/main/dataset/spam.csv',delimiter=',',encoding='latin-1')\n",
        "# drop unuse columns\n",
        "df.rename(columns={'v1':'target','v2':'sms'},inplace=True)\n",
        "df.drop(['Unnamed: 2', 'Unnamed: 3', 'Unnamed: 4'], axis=1, inplace=True)\n",
        "df.dropna()\n",
        "df.drop_duplicates()\n",
        "df.head()"
      ],
      "metadata": {
        "colab": {
          "base_uri": "https://localhost:8080/",
          "height": 206
        },
        "id": "2pbR2mfeppCR",
        "outputId": "08c7e355-3684-416b-8330-431f92f3a6e1"
      },
      "execution_count": 156,
      "outputs": [
        {
          "output_type": "execute_result",
          "data": {
            "text/plain": [
              "  target                                                sms\n",
              "0    ham  Go until jurong point, crazy.. Available only ...\n",
              "1    ham                      Ok lar... Joking wif u oni...\n",
              "2   spam  Free entry in 2 a wkly comp to win FA Cup fina...\n",
              "3    ham  U dun say so early hor... U c already then say...\n",
              "4    ham  Nah I don't think he goes to usf, he lives aro..."
            ],
            "text/html": [
              "\n",
              "  <div id=\"df-3d76fcdc-61c4-4e40-8045-f3892e0ff21f\">\n",
              "    <div class=\"colab-df-container\">\n",
              "      <div>\n",
              "<style scoped>\n",
              "    .dataframe tbody tr th:only-of-type {\n",
              "        vertical-align: middle;\n",
              "    }\n",
              "\n",
              "    .dataframe tbody tr th {\n",
              "        vertical-align: top;\n",
              "    }\n",
              "\n",
              "    .dataframe thead th {\n",
              "        text-align: right;\n",
              "    }\n",
              "</style>\n",
              "<table border=\"1\" class=\"dataframe\">\n",
              "  <thead>\n",
              "    <tr style=\"text-align: right;\">\n",
              "      <th></th>\n",
              "      <th>target</th>\n",
              "      <th>sms</th>\n",
              "    </tr>\n",
              "  </thead>\n",
              "  <tbody>\n",
              "    <tr>\n",
              "      <th>0</th>\n",
              "      <td>ham</td>\n",
              "      <td>Go until jurong point, crazy.. Available only ...</td>\n",
              "    </tr>\n",
              "    <tr>\n",
              "      <th>1</th>\n",
              "      <td>ham</td>\n",
              "      <td>Ok lar... Joking wif u oni...</td>\n",
              "    </tr>\n",
              "    <tr>\n",
              "      <th>2</th>\n",
              "      <td>spam</td>\n",
              "      <td>Free entry in 2 a wkly comp to win FA Cup fina...</td>\n",
              "    </tr>\n",
              "    <tr>\n",
              "      <th>3</th>\n",
              "      <td>ham</td>\n",
              "      <td>U dun say so early hor... U c already then say...</td>\n",
              "    </tr>\n",
              "    <tr>\n",
              "      <th>4</th>\n",
              "      <td>ham</td>\n",
              "      <td>Nah I don't think he goes to usf, he lives aro...</td>\n",
              "    </tr>\n",
              "  </tbody>\n",
              "</table>\n",
              "</div>\n",
              "      <button class=\"colab-df-convert\" onclick=\"convertToInteractive('df-3d76fcdc-61c4-4e40-8045-f3892e0ff21f')\"\n",
              "              title=\"Convert this dataframe to an interactive table.\"\n",
              "              style=\"display:none;\">\n",
              "        \n",
              "  <svg xmlns=\"http://www.w3.org/2000/svg\" height=\"24px\"viewBox=\"0 0 24 24\"\n",
              "       width=\"24px\">\n",
              "    <path d=\"M0 0h24v24H0V0z\" fill=\"none\"/>\n",
              "    <path d=\"M18.56 5.44l.94 2.06.94-2.06 2.06-.94-2.06-.94-.94-2.06-.94 2.06-2.06.94zm-11 1L8.5 8.5l.94-2.06 2.06-.94-2.06-.94L8.5 2.5l-.94 2.06-2.06.94zm10 10l.94 2.06.94-2.06 2.06-.94-2.06-.94-.94-2.06-.94 2.06-2.06.94z\"/><path d=\"M17.41 7.96l-1.37-1.37c-.4-.4-.92-.59-1.43-.59-.52 0-1.04.2-1.43.59L10.3 9.45l-7.72 7.72c-.78.78-.78 2.05 0 2.83L4 21.41c.39.39.9.59 1.41.59.51 0 1.02-.2 1.41-.59l7.78-7.78 2.81-2.81c.8-.78.8-2.07 0-2.86zM5.41 20L4 18.59l7.72-7.72 1.47 1.35L5.41 20z\"/>\n",
              "  </svg>\n",
              "      </button>\n",
              "      \n",
              "  <style>\n",
              "    .colab-df-container {\n",
              "      display:flex;\n",
              "      flex-wrap:wrap;\n",
              "      gap: 12px;\n",
              "    }\n",
              "\n",
              "    .colab-df-convert {\n",
              "      background-color: #E8F0FE;\n",
              "      border: none;\n",
              "      border-radius: 50%;\n",
              "      cursor: pointer;\n",
              "      display: none;\n",
              "      fill: #1967D2;\n",
              "      height: 32px;\n",
              "      padding: 0 0 0 0;\n",
              "      width: 32px;\n",
              "    }\n",
              "\n",
              "    .colab-df-convert:hover {\n",
              "      background-color: #E2EBFA;\n",
              "      box-shadow: 0px 1px 2px rgba(60, 64, 67, 0.3), 0px 1px 3px 1px rgba(60, 64, 67, 0.15);\n",
              "      fill: #174EA6;\n",
              "    }\n",
              "\n",
              "    [theme=dark] .colab-df-convert {\n",
              "      background-color: #3B4455;\n",
              "      fill: #D2E3FC;\n",
              "    }\n",
              "\n",
              "    [theme=dark] .colab-df-convert:hover {\n",
              "      background-color: #434B5C;\n",
              "      box-shadow: 0px 1px 3px 1px rgba(0, 0, 0, 0.15);\n",
              "      filter: drop-shadow(0px 1px 2px rgba(0, 0, 0, 0.3));\n",
              "      fill: #FFFFFF;\n",
              "    }\n",
              "  </style>\n",
              "\n",
              "      <script>\n",
              "        const buttonEl =\n",
              "          document.querySelector('#df-3d76fcdc-61c4-4e40-8045-f3892e0ff21f button.colab-df-convert');\n",
              "        buttonEl.style.display =\n",
              "          google.colab.kernel.accessAllowed ? 'block' : 'none';\n",
              "\n",
              "        async function convertToInteractive(key) {\n",
              "          const element = document.querySelector('#df-3d76fcdc-61c4-4e40-8045-f3892e0ff21f');\n",
              "          const dataTable =\n",
              "            await google.colab.kernel.invokeFunction('convertToInteractive',\n",
              "                                                     [key], {});\n",
              "          if (!dataTable) return;\n",
              "\n",
              "          const docLinkHtml = 'Like what you see? Visit the ' +\n",
              "            '<a target=\"_blank\" href=https://colab.research.google.com/notebooks/data_table.ipynb>data table notebook</a>'\n",
              "            + ' to learn more about interactive tables.';\n",
              "          element.innerHTML = '';\n",
              "          dataTable['output_type'] = 'display_data';\n",
              "          await google.colab.output.renderOutput(dataTable, element);\n",
              "          const docLink = document.createElement('div');\n",
              "          docLink.innerHTML = docLinkHtml;\n",
              "          element.appendChild(docLink);\n",
              "        }\n",
              "      </script>\n",
              "    </div>\n",
              "  </div>\n",
              "  "
            ]
          },
          "metadata": {},
          "execution_count": 156
        }
      ]
    },
    {
      "cell_type": "code",
      "source": [
        "df_ml=df.copy()\n",
        "sns.countplot(data = df_ml, x = 'target')"
      ],
      "metadata": {
        "colab": {
          "base_uri": "https://localhost:8080/",
          "height": 298
        },
        "id": "aKAEQNQBbR1I",
        "outputId": "16eac3f5-8f83-4e2c-b8c0-072e9fdf2dc3"
      },
      "execution_count": 157,
      "outputs": [
        {
          "output_type": "execute_result",
          "data": {
            "text/plain": [
              "<matplotlib.axes._subplots.AxesSubplot at 0x7f6f063350d0>"
            ]
          },
          "metadata": {},
          "execution_count": 157
        },
        {
          "output_type": "display_data",
          "data": {
            "text/plain": [
              "<Figure size 432x288 with 1 Axes>"
            ],
            "image/png": "[encoded data removed]"
          },
          "metadata": {
            "needs_background": "light"
          }
        }
      ]
    },
    {
      "cell_type": "code",
      "source": [
        "df_ml['target'] = df_ml.target.map({'ham':0, 'spam':1})\n",
        "\n",
        "# Split dataset into training and test sets\n",
        "X_train, X_test, Y_train, Y_test = train_test_split(df_ml.sms, df_ml.target, random_state = 42)\n",
        "\n",
        "# Instantiate the TfidfVectorizer method and fit data\n",
        "vector = TfidfVectorizer(stop_words = 'english')\n",
        "training_data = vector.fit_transform(X_train)\n",
        "\n",
        "# Transform testing data \n",
        "testing_data = vector.transform(X_test)\n",
        "training_data.todense().shape"
      ],
      "metadata": {
        "colab": {
          "base_uri": "https://localhost:8080/"
        },
        "id": "HVYDSlwbbnHd",
        "outputId": "9c202886-64c0-4fe8-cf16-b202a80dbf92"
      },
      "execution_count": 158,
      "outputs": [
        {
          "output_type": "execute_result",
          "data": {
            "text/plain": [
              "(4179, 7180)"
            ]
          },
          "metadata": {},
          "execution_count": 158
        }
      ]
    },
    {
      "cell_type": "code",
      "source": [
        "#Training\n",
        "# Instantiate all models\n",
        "naive_bayes_clf = MultinomialNB()\n",
        "random_forest_clf = RandomForestClassifier(n_estimators = 200)\n",
        "svm_clf = SVC()\n",
        "\n",
        "# Fit models with training data\n",
        "tik = time.time()\n",
        "naive_bayes_clf.fit(training_data, Y_train)\n",
        "tok = time.time()\n",
        "time_nb = tok-tik\n",
        "\n",
        "tik = time.time()\n",
        "random_forest_clf.fit(training_data, Y_train)\n",
        "tok = time.time()\n",
        "time_rf = tok-tik\n",
        "\n",
        "tik = time.time()\n",
        "svm_clf.fit(training_data, Y_train)\n",
        "tok = time.time()\n",
        "time_svm = tok-tik"
      ],
      "metadata": {
        "id": "CgfpDZS8b_Ei"
      },
      "execution_count": 159,
      "outputs": []
    },
    {
      "cell_type": "code",
      "source": [
        "#F-beta score as the evaluation\n",
        "beta = 0.5\n",
        "fbeta_scorer = make_scorer(fbeta_score, beta = beta)\n",
        "\n",
        "def validation_score(model_name):\n",
        "    scores = cross_val_score(model_name, \n",
        "                    training_data, Y_train, \n",
        "                    cv=10, scoring=fbeta_scorer) \n",
        "    return scores"
      ],
      "metadata": {
        "id": "vVHOAXy_cfWx"
      },
      "execution_count": 160,
      "outputs": []
    },
    {
      "cell_type": "code",
      "source": [
        "nb_val_score = validation_score(naive_bayes_clf)\n",
        "print(nb_val_score, \"\\n\")\n",
        "print(\"Average cross-validation F-beta score:\", nb_val_score.mean())"
      ],
      "metadata": {
        "colab": {
          "base_uri": "https://localhost:8080/"
        },
        "id": "y9pE1IXackVs",
        "outputId": "18241e9b-0a27-4ec1-e4de-e64e4f459f01"
      },
      "execution_count": 161,
      "outputs": [
        {
          "output_type": "stream",
          "name": "stdout",
          "text": [
            "[0.96707819 0.9623431  0.95238095 0.95338983 0.94298246 0.91981132\n",
            " 0.96311475 0.91346154 0.94827586 0.91133005] \n",
            "\n",
            "Average cross-validation F-beta score: 0.9434168049209164\n"
          ]
        }
      ]
    },
    {
      "cell_type": "code",
      "source": [
        "rf_val_score = validation_score(random_forest_clf)\n",
        "print(rf_val_score, \"\\n\")\n",
        "print(\"Average cross-validation F-beta score:\", rf_val_score.mean())"
      ],
      "metadata": {
        "colab": {
          "base_uri": "https://localhost:8080/"
        },
        "id": "VKSFJpg1cnu4",
        "outputId": "2f4659b8-cf04-4cc6-a72d-72843456abaa"
      },
      "execution_count": 162,
      "outputs": [
        {
          "output_type": "stream",
          "name": "stdout",
          "text": [
            "[0.97165992 0.951417   0.94142259 0.97222222 0.96774194 0.93181818\n",
            " 0.97222222 0.95833333 0.97222222 0.93607306] \n",
            "\n",
            "Average cross-validation F-beta score: 0.9575132693881965\n"
          ]
        }
      ]
    },
    {
      "cell_type": "code",
      "source": [
        "svm_val_score = validation_score(svm_clf)\n",
        "print(svm_val_score, \"\\n\")\n",
        "print(\"Average cross-validation F-beta score:\", svm_val_score.mean())"
      ],
      "metadata": {
        "colab": {
          "base_uri": "https://localhost:8080/"
        },
        "id": "gorYJrEacqqg",
        "outputId": "918778d9-980a-4560-cad4-924e52ab30a9"
      },
      "execution_count": 163,
      "outputs": [
        {
          "output_type": "stream",
          "name": "stdout",
          "text": [
            "[0.94117647 0.96707819 0.95238095 0.94827586 0.95338983 0.90909091\n",
            " 0.95338983 0.9375     0.95338983 0.91324201] \n",
            "\n",
            "Average cross-validation F-beta score: 0.9428913884087317\n"
          ]
        }
      ]
    },
    {
      "cell_type": "code",
      "source": [
        "def testing_score(model):\n",
        "    Y_pred = model.predict(testing_data)\n",
        "    fbeta = fbeta_score(Y_test, Y_pred, beta = beta)\n",
        "    return round(fbeta, 4)\n",
        "\n",
        "def print_metrics(models, model_names):\n",
        "    metrics_dict = {}\n",
        "    for i in range(len(models)):\n",
        "        metrics_dict[model_names[i]] = testing_score(models[i])\n",
        "    return metrics_dict\n",
        "\n",
        "models = [naive_bayes_clf, random_forest_clf, svm_clf]\n",
        "model_names = [\"Naive Bayes\", \"Random Forest\", \"Support Vector Machines\"]\n",
        "\n",
        "print_metrics(models, model_names)"
      ],
      "metadata": {
        "colab": {
          "base_uri": "https://localhost:8080/"
        },
        "id": "Us9Hzd4Ocu2_",
        "outputId": "dba97996-a61a-4b0f-c68b-f50df3b77664"
      },
      "execution_count": 164,
      "outputs": [
        {
          "output_type": "execute_result",
          "data": {
            "text/plain": [
              "{'Naive Bayes': 0.9387,\n",
              " 'Random Forest': 0.9549,\n",
              " 'Support Vector Machines': 0.9553}"
            ]
          },
          "metadata": {},
          "execution_count": 164
        }
      ]
    },
    {
      "cell_type": "code",
      "source": [
        "# comparing the evaluation performance of all the models\n",
        "fig = make_subplots(rows=1, cols=2, subplot_titles=('Evaluation Loss',  'Evaluation Accuracy'))\n",
        "\n",
        "fig.add_trace(\n",
        "    go.Bar(name='Loss', \n",
        "           x=['SimpleRNN', 'LSTM', 'GRU'], \n",
        "           y=[test_acc_rnn[0], test_acc_lstm[0], test_acc_gru[0]]),\n",
        "           row=1, \n",
        "           col=1)\n",
        "\n",
        "fig.add_trace(\n",
        "    go.Bar(name='Accuracy', \n",
        "           x=['SimpleRNN', 'LSTM', 'GRU', 'NB', 'RF', 'SVM'], \n",
        "           y=[test_acc_rnn[1], test_acc_lstm[1], test_acc_gru[1], nb_val_score.mean(), rf_val_score.mean(), svm_val_score.mean()]),\n",
        "           row=1, \n",
        "           col=2)\n",
        "\n",
        "fig.update_layout(title_text='Evaulation Results')\n",
        "fig.show()"
      ],
      "metadata": {
        "colab": {
          "base_uri": "https://localhost:8080/",
          "height": 542
        },
        "id": "zlp1qfualoah",
        "outputId": "d08d2197-3138-4ffd-80c0-173933a508f9"
      },
      "execution_count": 168,
      "outputs": [
        {
          "output_type": "display_data",
          "data": {
            "text/html": [
              "<html>\n",
              "<head><meta charset=\"utf-8\" /></head>\n",
              "<body>\n",
              "    <div>            <script src=\"https://cdnjs.cloudflare.com/ajax/libs/mathjax/2.7.5/MathJax.js?config=TeX-AMS-MML_SVG\"></script><script type=\"text/javascript\">if (window.MathJax) {MathJax.Hub.Config({SVG: {font: \"STIX-Web\"}});}</script>                <script type=\"text/javascript\">window.PlotlyConfig = {MathJaxConfig: 'local'};</script>\n",
              "        <script src=\"https://cdn.plot.ly/plotly-2.8.3.min.js\"></script>                <div id=\"af03d6b2-5513-4ca3-a789-2c4403ba3858\" class=\"plotly-graph-div\" style=\"height:525px; width:100%;\"></div>            <script type=\"text/javascript\">                                    window.PLOTLYENV=window.PLOTLYENV || {};                                    if (document.getElementById(\"af03d6b2-5513-4ca3-a789-2c4403ba3858\")) {                    Plotly.newPlot(                        \"af03d6b2-5513-4ca3-a789-2c4403ba3858\",                        [{\"name\":\"Loss\",\"x\":[\"SimpleRNN\",\"LSTM\",\"GRU\"],\"y\":[0.06445786356925964,0.11114457994699478,0.11911992728710175],\"type\":\"bar\",\"xaxis\":\"x\",\"yaxis\":\"y\"},{\"name\":\"Accuracy\",\"x\":[\"SimpleRNN\",\"LSTM\",\"GRU\",\"NB\",\"RF\",\"SVM\"],\"y\":[0.985637366771698,0.985637366771698,0.9838420152664185,0.9434168049209164,0.9575132693881965,0.9428913884087317],\"type\":\"bar\",\"xaxis\":\"x2\",\"yaxis\":\"y2\"}],                        {\"template\":{\"data\":{\"bar\":[{\"error_x\":{\"color\":\"#2a3f5f\"},\"error_y\":{\"color\":\"#2a3f5f\"},\"marker\":{\"line\":{\"color\":\"#E5ECF6\",\"width\":0.5},\"pattern\":{\"fillmode\":\"overlay\",\"size\":10,\"solidity\":0.2}},\"type\":\"bar\"}],\"barpolar\":[{\"marker\":{\"line\":{\"color\":\"#E5ECF6\",\"width\":0.5},\"pattern\":{\"fillmode\":\"overlay\",\"size\":10,\"solidity\":0.2}},\"type\":\"barpolar\"}],\"carpet\":[{\"aaxis\":{\"endlinecolor\":\"#2a3f5f\",\"gridcolor\":\"white\",\"linecolor\":\"white\",\"minorgridcolor\":\"white\",\"startlinecolor\":\"#2a3f5f\"},\"baxis\":{\"endlinecolor\":\"#2a3f5f\",\"gridcolor\":\"white\",\"linecolor\":\"white\",\"minorgridcolor\":\"white\",\"startlinecolor\":\"#2a3f5f\"},\"type\":\"carpet\"}],\"choropleth\":[{\"colorbar\":{\"outlinewidth\":0,\"ticks\":\"\"},\"type\":\"choropleth\"}],\"contour\":[{\"colorbar\":{\"outlinewidth\":0,\"ticks\":\"\"},\"colorscale\":[[0.0,\"#0d0887\"],[0.1111111111111111,\"#46039f\"],[0.2222222222222222,\"#7201a8\"],[0.3333333333333333,\"#9c179e\"],[0.4444444444444444,\"#bd3786\"],[0.5555555555555556,\"#d8576b\"],[0.6666666666666666,\"#ed7953\"],[0.7777777777777778,\"#fb9f3a\"],[0.8888888888888888,\"#fdca26\"],[1.0,\"#f0f921\"]],\"type\":\"contour\"}],\"contourcarpet\":[{\"colorbar\":{\"outlinewidth\":0,\"ticks\":\"\"},\"type\":\"contourcarpet\"}],\"heatmap\":[{\"colorbar\":{\"outlinewidth\":0,\"ticks\":\"\"},\"colorscale\":[[0.0,\"#0d0887\"],[0.1111111111111111,\"#46039f\"],[0.2222222222222222,\"#7201a8\"],[0.3333333333333333,\"#9c179e\"],[0.4444444444444444,\"#bd3786\"],[0.5555555555555556,\"#d8576b\"],[0.6666666666666666,\"#ed7953\"],[0.7777777777777778,\"#fb9f3a\"],[0.8888888888888888,\"#fdca26\"],[1.0,\"#f0f921\"]],\"type\":\"heatmap\"}],\"heatmapgl\":[{\"colorbar\":{\"outlinewidth\":0,\"ticks\":\"\"},\"colorscale\":[[0.0,\"#0d0887\"],[0.1111111111111111,\"#46039f\"],[0.2222222222222222,\"#7201a8\"],[0.3333333333333333,\"#9c179e\"],[0.4444444444444444,\"#bd3786\"],[0.5555555555555556,\"#d8576b\"],[0.6666666666666666,\"#ed7953\"],[0.7777777777777778,\"#fb9f3a\"],[0.8888888888888888,\"#fdca26\"],[1.0,\"#f0f921\"]],\"type\":\"heatmapgl\"}],\"histogram\":[{\"marker\":{\"pattern\":{\"fillmode\":\"overlay\",\"size\":10,\"solidity\":0.2}},\"type\":\"histogram\"}],\"histogram2d\":[{\"colorbar\":{\"outlinewidth\":0,\"ticks\":\"\"},\"colorscale\":[[0.0,\"#0d0887\"],[0.1111111111111111,\"#46039f\"],[0.2222222222222222,\"#7201a8\"],[0.3333333333333333,\"#9c179e\"],[0.4444444444444444,\"#bd3786\"],[0.5555555555555556,\"#d8576b\"],[0.6666666666666666,\"#ed7953\"],[0.7777777777777778,\"#fb9f3a\"],[0.8888888888888888,\"#fdca26\"],[1.0,\"#f0f921\"]],\"type\":\"histogram2d\"}],\"histogram2dcontour\":[{\"colorbar\":{\"outlinewidth\":0,\"ticks\":\"\"},\"colorscale\":[[0.0,\"#0d0887\"],[0.1111111111111111,\"#46039f\"],[0.2222222222222222,\"#7201a8\"],[0.3333333333333333,\"#9c179e\"],[0.4444444444444444,\"#bd3786\"],[0.5555555555555556,\"#d8576b\"],[0.6666666666666666,\"#ed7953\"],[0.7777777777777778,\"#fb9f3a\"],[0.8888888888888888,\"#fdca26\"],[1.0,\"#f0f921\"]],\"type\":\"histogram2dcontour\"}],\"mesh3d\":[{\"colorbar\":{\"outlinewidth\":0,\"ticks\":\"\"},\"type\":\"mesh3d\"}],\"parcoords\":[{\"line\":{\"colorbar\":{\"outlinewidth\":0,\"ticks\":\"\"}},\"type\":\"parcoords\"}],\"pie\":[{\"automargin\":true,\"type\":\"pie\"}],\"scatter\":[{\"marker\":{\"colorbar\":{\"outlinewidth\":0,\"ticks\":\"\"}},\"type\":\"scatter\"}],\"scatter3d\":[{\"line\":{\"colorbar\":{\"outlinewidth\":0,\"ticks\":\"\"}},\"marker\":{\"colorbar\":{\"outlinewidth\":0,\"ticks\":\"\"}},\"type\":\"scatter3d\"}],\"scattercarpet\":[{\"marker\":{\"colorbar\":{\"outlinewidth\":0,\"ticks\":\"\"}},\"type\":\"scattercarpet\"}],\"scattergeo\":[{\"marker\":{\"colorbar\":{\"outlinewidth\":0,\"ticks\":\"\"}},\"type\":\"scattergeo\"}],\"scattergl\":[{\"marker\":{\"colorbar\":{\"outlinewidth\":0,\"ticks\":\"\"}},\"type\":\"scattergl\"}],\"scattermapbox\":[{\"marker\":{\"colorbar\":{\"outlinewidth\":0,\"ticks\":\"\"}},\"type\":\"scattermapbox\"}],\"scatterpolar\":[{\"marker\":{\"colorbar\":{\"outlinewidth\":0,\"ticks\":\"\"}},\"type\":\"scatterpolar\"}],\"scatterpolargl\":[{\"marker\":{\"colorbar\":{\"outlinewidth\":0,\"ticks\":\"\"}},\"type\":\"scatterpolargl\"}],\"scatterternary\":[{\"marker\":{\"colorbar\":{\"outlinewidth\":0,\"ticks\":\"\"}},\"type\":\"scatterternary\"}],\"surface\":[{\"colorbar\":{\"outlinewidth\":0,\"ticks\":\"\"},\"colorscale\":[[0.0,\"#0d0887\"],[0.1111111111111111,\"#46039f\"],[0.2222222222222222,\"#7201a8\"],[0.3333333333333333,\"#9c179e\"],[0.4444444444444444,\"#bd3786\"],[0.5555555555555556,\"#d8576b\"],[0.6666666666666666,\"#ed7953\"],[0.7777777777777778,\"#fb9f3a\"],[0.8888888888888888,\"#fdca26\"],[1.0,\"#f0f921\"]],\"type\":\"surface\"}],\"table\":[{\"cells\":{\"fill\":{\"color\":\"#EBF0F8\"},\"line\":{\"color\":\"white\"}},\"header\":{\"fill\":{\"color\":\"#C8D4E3\"},\"line\":{\"color\":\"white\"}},\"type\":\"table\"}]},\"layout\":{\"annotationdefaults\":{\"arrowcolor\":\"#2a3f5f\",\"arrowhead\":0,\"arrowwidth\":1},\"autotypenumbers\":\"strict\",\"coloraxis\":{\"colorbar\":{\"outlinewidth\":0,\"ticks\":\"\"}},\"colorscale\":{\"diverging\":[[0,\"#8e0152\"],[0.1,\"#c51b7d\"],[0.2,\"#de77ae\"],[0.3,\"#f1b6da\"],[0.4,\"#fde0ef\"],[0.5,\"#f7f7f7\"],[0.6,\"#e6f5d0\"],[0.7,\"#b8e186\"],[0.8,\"#7fbc41\"],[0.9,\"#4d9221\"],[1,\"#276419\"]],\"sequential\":[[0.0,\"#0d0887\"],[0.1111111111111111,\"#46039f\"],[0.2222222222222222,\"#7201a8\"],[0.3333333333333333,\"#9c179e\"],[0.4444444444444444,\"#bd3786\"],[0.5555555555555556,\"#d8576b\"],[0.6666666666666666,\"#ed7953\"],[0.7777777777777778,\"#fb9f3a\"],[0.8888888888888888,\"#fdca26\"],[1.0,\"#f0f921\"]],\"sequentialminus\":[[0.0,\"#0d0887\"],[0.1111111111111111,\"#46039f\"],[0.2222222222222222,\"#7201a8\"],[0.3333333333333333,\"#9c179e\"],[0.4444444444444444,\"#bd3786\"],[0.5555555555555556,\"#d8576b\"],[0.6666666666666666,\"#ed7953\"],[0.7777777777777778,\"#fb9f3a\"],[0.8888888888888888,\"#fdca26\"],[1.0,\"#f0f921\"]]},\"colorway\":[\"#636efa\",\"#EF553B\",\"#00cc96\",\"#ab63fa\",\"#FFA15A\",\"#19d3f3\",\"#FF6692\",\"#B6E880\",\"#FF97FF\",\"#FECB52\"],\"font\":{\"color\":\"#2a3f5f\"},\"geo\":{\"bgcolor\":\"white\",\"lakecolor\":\"white\",\"landcolor\":\"#E5ECF6\",\"showlakes\":true,\"showland\":true,\"subunitcolor\":\"white\"},\"hoverlabel\":{\"align\":\"left\"},\"hovermode\":\"closest\",\"mapbox\":{\"style\":\"light\"},\"paper_bgcolor\":\"white\",\"plot_bgcolor\":\"#E5ECF6\",\"polar\":{\"angularaxis\":{\"gridcolor\":\"white\",\"linecolor\":\"white\",\"ticks\":\"\"},\"bgcolor\":\"#E5ECF6\",\"radialaxis\":{\"gridcolor\":\"white\",\"linecolor\":\"white\",\"ticks\":\"\"}},\"scene\":{\"xaxis\":{\"backgroundcolor\":\"#E5ECF6\",\"gridcolor\":\"white\",\"gridwidth\":2,\"linecolor\":\"white\",\"showbackground\":true,\"ticks\":\"\",\"zerolinecolor\":\"white\"},\"yaxis\":{\"backgroundcolor\":\"#E5ECF6\",\"gridcolor\":\"white\",\"gridwidth\":2,\"linecolor\":\"white\",\"showbackground\":true,\"ticks\":\"\",\"zerolinecolor\":\"white\"},\"zaxis\":{\"backgroundcolor\":\"#E5ECF6\",\"gridcolor\":\"white\",\"gridwidth\":2,\"linecolor\":\"white\",\"showbackground\":true,\"ticks\":\"\",\"zerolinecolor\":\"white\"}},\"shapedefaults\":{\"line\":{\"color\":\"#2a3f5f\"}},\"ternary\":{\"aaxis\":{\"gridcolor\":\"white\",\"linecolor\":\"white\",\"ticks\":\"\"},\"baxis\":{\"gridcolor\":\"white\",\"linecolor\":\"white\",\"ticks\":\"\"},\"bgcolor\":\"#E5ECF6\",\"caxis\":{\"gridcolor\":\"white\",\"linecolor\":\"white\",\"ticks\":\"\"}},\"title\":{\"x\":0.05},\"xaxis\":{\"automargin\":true,\"gridcolor\":\"white\",\"linecolor\":\"white\",\"ticks\":\"\",\"title\":{\"standoff\":15},\"zerolinecolor\":\"white\",\"zerolinewidth\":2},\"yaxis\":{\"automargin\":true,\"gridcolor\":\"white\",\"linecolor\":\"white\",\"ticks\":\"\",\"title\":{\"standoff\":15},\"zerolinecolor\":\"white\",\"zerolinewidth\":2}}},\"xaxis\":{\"anchor\":\"y\",\"domain\":[0.0,0.45]},\"yaxis\":{\"anchor\":\"x\",\"domain\":[0.0,1.0]},\"xaxis2\":{\"anchor\":\"y2\",\"domain\":[0.55,1.0]},\"yaxis2\":{\"anchor\":\"x2\",\"domain\":[0.0,1.0]},\"annotations\":[{\"font\":{\"size\":16},\"showarrow\":false,\"text\":\"Evaluation Loss\",\"x\":0.225,\"xanchor\":\"center\",\"xref\":\"paper\",\"y\":1.0,\"yanchor\":\"bottom\",\"yref\":\"paper\"},{\"font\":{\"size\":16},\"showarrow\":false,\"text\":\"Evaluation Accuracy\",\"x\":0.775,\"xanchor\":\"center\",\"xref\":\"paper\",\"y\":1.0,\"yanchor\":\"bottom\",\"yref\":\"paper\"}],\"title\":{\"text\":\"Evaulation Results\"}},                        {\"responsive\": true}                    ).then(function(){\n",
              "                            \n",
              "var gd = document.getElementById('af03d6b2-5513-4ca3-a789-2c4403ba3858');\n",
              "var x = new MutationObserver(function (mutations, observer) {{\n",
              "        var display = window.getComputedStyle(gd).display;\n",
              "        if (!display || display === 'none') {{\n",
              "            console.log([gd, 'removed!']);\n",
              "            Plotly.purge(gd);\n",
              "            observer.disconnect();\n",
              "        }}\n",
              "}});\n",
              "\n",
              "// Listen for the removal of the full notebook cells\n",
              "var notebookContainer = gd.closest('#notebook-container');\n",
              "if (notebookContainer) {{\n",
              "    x.observe(notebookContainer, {childList: true});\n",
              "}}\n",
              "\n",
              "// Listen for the clearing of the current output cell\n",
              "var outputEl = gd.closest('.output');\n",
              "if (outputEl) {{\n",
              "    x.observe(outputEl, {childList: true});\n",
              "}}\n",
              "\n",
              "                        })                };                            </script>        </div>\n",
              "</body>\n",
              "</html>"
            ]
          },
          "metadata": {}
        }
      ]
    },
    {
      "cell_type": "code",
      "source": [
        "# comparing the training time for each of the models \n",
        "fig = go.Figure()\n",
        "fig.add_trace(go.Bar(name='Loss', \n",
        "                     x=['SimpleRNN', 'LSTM', 'GRU', 'NB', 'RF', 'SVM'], \n",
        "                     y=[time_rnn, time_lstm, time_gru, time_nb, time_rf, time_svm]))\n",
        "fig.update_layout(title_text='Training time of each model')\n",
        "fig.show()"
      ],
      "metadata": {
        "colab": {
          "base_uri": "https://localhost:8080/",
          "height": 542
        },
        "id": "HZybRTHMlIsw",
        "outputId": "4eaa02f5-94ea-4c5c-8b0d-364fd8d67a50"
      },
      "execution_count": 169,
      "outputs": [
        {
          "output_type": "display_data",
          "data": {
            "text/html": [
              "<html>\n",
              "<head><meta charset=\"utf-8\" /></head>\n",
              "<body>\n",
              "    <div>            <script src=\"https://cdnjs.cloudflare.com/ajax/libs/mathjax/2.7.5/MathJax.js?config=TeX-AMS-MML_SVG\"></script><script type=\"text/javascript\">if (window.MathJax) {MathJax.Hub.Config({SVG: {font: \"STIX-Web\"}});}</script>                <script type=\"text/javascript\">window.PlotlyConfig = {MathJaxConfig: 'local'};</script>\n",
              "        <script src=\"https://cdn.plot.ly/plotly-2.8.3.min.js\"></script>                <div id=\"8d830f24-5ff2-4347-889c-f7d569c4aa91\" class=\"plotly-graph-div\" style=\"height:525px; width:100%;\"></div>            <script type=\"text/javascript\">                                    window.PLOTLYENV=window.PLOTLYENV || {};                                    if (document.getElementById(\"8d830f24-5ff2-4347-889c-f7d569c4aa91\")) {                    Plotly.newPlot(                        \"8d830f24-5ff2-4347-889c-f7d569c4aa91\",                        [{\"name\":\"Loss\",\"x\":[\"SimpleRNN\",\"LSTM\",\"GRU\",\"NB\",\"RF\",\"SVM\"],\"y\":[225.00597095489502,22.084848165512085,17.22800636291504,0.004520893096923828,1.357694149017334,1.388664722442627],\"type\":\"bar\"}],                        {\"template\":{\"data\":{\"bar\":[{\"error_x\":{\"color\":\"#2a3f5f\"},\"error_y\":{\"color\":\"#2a3f5f\"},\"marker\":{\"line\":{\"color\":\"#E5ECF6\",\"width\":0.5},\"pattern\":{\"fillmode\":\"overlay\",\"size\":10,\"solidity\":0.2}},\"type\":\"bar\"}],\"barpolar\":[{\"marker\":{\"line\":{\"color\":\"#E5ECF6\",\"width\":0.5},\"pattern\":{\"fillmode\":\"overlay\",\"size\":10,\"solidity\":0.2}},\"type\":\"barpolar\"}],\"carpet\":[{\"aaxis\":{\"endlinecolor\":\"#2a3f5f\",\"gridcolor\":\"white\",\"linecolor\":\"white\",\"minorgridcolor\":\"white\",\"startlinecolor\":\"#2a3f5f\"},\"baxis\":{\"endlinecolor\":\"#2a3f5f\",\"gridcolor\":\"white\",\"linecolor\":\"white\",\"minorgridcolor\":\"white\",\"startlinecolor\":\"#2a3f5f\"},\"type\":\"carpet\"}],\"choropleth\":[{\"colorbar\":{\"outlinewidth\":0,\"ticks\":\"\"},\"type\":\"choropleth\"}],\"contour\":[{\"colorbar\":{\"outlinewidth\":0,\"ticks\":\"\"},\"colorscale\":[[0.0,\"#0d0887\"],[0.1111111111111111,\"#46039f\"],[0.2222222222222222,\"#7201a8\"],[0.3333333333333333,\"#9c179e\"],[0.4444444444444444,\"#bd3786\"],[0.5555555555555556,\"#d8576b\"],[0.6666666666666666,\"#ed7953\"],[0.7777777777777778,\"#fb9f3a\"],[0.8888888888888888,\"#fdca26\"],[1.0,\"#f0f921\"]],\"type\":\"contour\"}],\"contourcarpet\":[{\"colorbar\":{\"outlinewidth\":0,\"ticks\":\"\"},\"type\":\"contourcarpet\"}],\"heatmap\":[{\"colorbar\":{\"outlinewidth\":0,\"ticks\":\"\"},\"colorscale\":[[0.0,\"#0d0887\"],[0.1111111111111111,\"#46039f\"],[0.2222222222222222,\"#7201a8\"],[0.3333333333333333,\"#9c179e\"],[0.4444444444444444,\"#bd3786\"],[0.5555555555555556,\"#d8576b\"],[0.6666666666666666,\"#ed7953\"],[0.7777777777777778,\"#fb9f3a\"],[0.8888888888888888,\"#fdca26\"],[1.0,\"#f0f921\"]],\"type\":\"heatmap\"}],\"heatmapgl\":[{\"colorbar\":{\"outlinewidth\":0,\"ticks\":\"\"},\"colorscale\":[[0.0,\"#0d0887\"],[0.1111111111111111,\"#46039f\"],[0.2222222222222222,\"#7201a8\"],[0.3333333333333333,\"#9c179e\"],[0.4444444444444444,\"#bd3786\"],[0.5555555555555556,\"#d8576b\"],[0.6666666666666666,\"#ed7953\"],[0.7777777777777778,\"#fb9f3a\"],[0.8888888888888888,\"#fdca26\"],[1.0,\"#f0f921\"]],\"type\":\"heatmapgl\"}],\"histogram\":[{\"marker\":{\"pattern\":{\"fillmode\":\"overlay\",\"size\":10,\"solidity\":0.2}},\"type\":\"histogram\"}],\"histogram2d\":[{\"colorbar\":{\"outlinewidth\":0,\"ticks\":\"\"},\"colorscale\":[[0.0,\"#0d0887\"],[0.1111111111111111,\"#46039f\"],[0.2222222222222222,\"#7201a8\"],[0.3333333333333333,\"#9c179e\"],[0.4444444444444444,\"#bd3786\"],[0.5555555555555556,\"#d8576b\"],[0.6666666666666666,\"#ed7953\"],[0.7777777777777778,\"#fb9f3a\"],[0.8888888888888888,\"#fdca26\"],[1.0,\"#f0f921\"]],\"type\":\"histogram2d\"}],\"histogram2dcontour\":[{\"colorbar\":{\"outlinewidth\":0,\"ticks\":\"\"},\"colorscale\":[[0.0,\"#0d0887\"],[0.1111111111111111,\"#46039f\"],[0.2222222222222222,\"#7201a8\"],[0.3333333333333333,\"#9c179e\"],[0.4444444444444444,\"#bd3786\"],[0.5555555555555556,\"#d8576b\"],[0.6666666666666666,\"#ed7953\"],[0.7777777777777778,\"#fb9f3a\"],[0.8888888888888888,\"#fdca26\"],[1.0,\"#f0f921\"]],\"type\":\"histogram2dcontour\"}],\"mesh3d\":[{\"colorbar\":{\"outlinewidth\":0,\"ticks\":\"\"},\"type\":\"mesh3d\"}],\"parcoords\":[{\"line\":{\"colorbar\":{\"outlinewidth\":0,\"ticks\":\"\"}},\"type\":\"parcoords\"}],\"pie\":[{\"automargin\":true,\"type\":\"pie\"}],\"scatter\":[{\"marker\":{\"colorbar\":{\"outlinewidth\":0,\"ticks\":\"\"}},\"type\":\"scatter\"}],\"scatter3d\":[{\"line\":{\"colorbar\":{\"outlinewidth\":0,\"ticks\":\"\"}},\"marker\":{\"colorbar\":{\"outlinewidth\":0,\"ticks\":\"\"}},\"type\":\"scatter3d\"}],\"scattercarpet\":[{\"marker\":{\"colorbar\":{\"outlinewidth\":0,\"ticks\":\"\"}},\"type\":\"scattercarpet\"}],\"scattergeo\":[{\"marker\":{\"colorbar\":{\"outlinewidth\":0,\"ticks\":\"\"}},\"type\":\"scattergeo\"}],\"scattergl\":[{\"marker\":{\"colorbar\":{\"outlinewidth\":0,\"ticks\":\"\"}},\"type\":\"scattergl\"}],\"scattermapbox\":[{\"marker\":{\"colorbar\":{\"outlinewidth\":0,\"ticks\":\"\"}},\"type\":\"scattermapbox\"}],\"scatterpolar\":[{\"marker\":{\"colorbar\":{\"outlinewidth\":0,\"ticks\":\"\"}},\"type\":\"scatterpolar\"}],\"scatterpolargl\":[{\"marker\":{\"colorbar\":{\"outlinewidth\":0,\"ticks\":\"\"}},\"type\":\"scatterpolargl\"}],\"scatterternary\":[{\"marker\":{\"colorbar\":{\"outlinewidth\":0,\"ticks\":\"\"}},\"type\":\"scatterternary\"}],\"surface\":[{\"colorbar\":{\"outlinewidth\":0,\"ticks\":\"\"},\"colorscale\":[[0.0,\"#0d0887\"],[0.1111111111111111,\"#46039f\"],[0.2222222222222222,\"#7201a8\"],[0.3333333333333333,\"#9c179e\"],[0.4444444444444444,\"#bd3786\"],[0.5555555555555556,\"#d8576b\"],[0.6666666666666666,\"#ed7953\"],[0.7777777777777778,\"#fb9f3a\"],[0.8888888888888888,\"#fdca26\"],[1.0,\"#f0f921\"]],\"type\":\"surface\"}],\"table\":[{\"cells\":{\"fill\":{\"color\":\"#EBF0F8\"},\"line\":{\"color\":\"white\"}},\"header\":{\"fill\":{\"color\":\"#C8D4E3\"},\"line\":{\"color\":\"white\"}},\"type\":\"table\"}]},\"layout\":{\"annotationdefaults\":{\"arrowcolor\":\"#2a3f5f\",\"arrowhead\":0,\"arrowwidth\":1},\"autotypenumbers\":\"strict\",\"coloraxis\":{\"colorbar\":{\"outlinewidth\":0,\"ticks\":\"\"}},\"colorscale\":{\"diverging\":[[0,\"#8e0152\"],[0.1,\"#c51b7d\"],[0.2,\"#de77ae\"],[0.3,\"#f1b6da\"],[0.4,\"#fde0ef\"],[0.5,\"#f7f7f7\"],[0.6,\"#e6f5d0\"],[0.7,\"#b8e186\"],[0.8,\"#7fbc41\"],[0.9,\"#4d9221\"],[1,\"#276419\"]],\"sequential\":[[0.0,\"#0d0887\"],[0.1111111111111111,\"#46039f\"],[0.2222222222222222,\"#7201a8\"],[0.3333333333333333,\"#9c179e\"],[0.4444444444444444,\"#bd3786\"],[0.5555555555555556,\"#d8576b\"],[0.6666666666666666,\"#ed7953\"],[0.7777777777777778,\"#fb9f3a\"],[0.8888888888888888,\"#fdca26\"],[1.0,\"#f0f921\"]],\"sequentialminus\":[[0.0,\"#0d0887\"],[0.1111111111111111,\"#46039f\"],[0.2222222222222222,\"#7201a8\"],[0.3333333333333333,\"#9c179e\"],[0.4444444444444444,\"#bd3786\"],[0.5555555555555556,\"#d8576b\"],[0.6666666666666666,\"#ed7953\"],[0.7777777777777778,\"#fb9f3a\"],[0.8888888888888888,\"#fdca26\"],[1.0,\"#f0f921\"]]},\"colorway\":[\"#636efa\",\"#EF553B\",\"#00cc96\",\"#ab63fa\",\"#FFA15A\",\"#19d3f3\",\"#FF6692\",\"#B6E880\",\"#FF97FF\",\"#FECB52\"],\"font\":{\"color\":\"#2a3f5f\"},\"geo\":{\"bgcolor\":\"white\",\"lakecolor\":\"white\",\"landcolor\":\"#E5ECF6\",\"showlakes\":true,\"showland\":true,\"subunitcolor\":\"white\"},\"hoverlabel\":{\"align\":\"left\"},\"hovermode\":\"closest\",\"mapbox\":{\"style\":\"light\"},\"paper_bgcolor\":\"white\",\"plot_bgcolor\":\"#E5ECF6\",\"polar\":{\"angularaxis\":{\"gridcolor\":\"white\",\"linecolor\":\"white\",\"ticks\":\"\"},\"bgcolor\":\"#E5ECF6\",\"radialaxis\":{\"gridcolor\":\"white\",\"linecolor\":\"white\",\"ticks\":\"\"}},\"scene\":{\"xaxis\":{\"backgroundcolor\":\"#E5ECF6\",\"gridcolor\":\"white\",\"gridwidth\":2,\"linecolor\":\"white\",\"showbackground\":true,\"ticks\":\"\",\"zerolinecolor\":\"white\"},\"yaxis\":{\"backgroundcolor\":\"#E5ECF6\",\"gridcolor\":\"white\",\"gridwidth\":2,\"linecolor\":\"white\",\"showbackground\":true,\"ticks\":\"\",\"zerolinecolor\":\"white\"},\"zaxis\":{\"backgroundcolor\":\"#E5ECF6\",\"gridcolor\":\"white\",\"gridwidth\":2,\"linecolor\":\"white\",\"showbackground\":true,\"ticks\":\"\",\"zerolinecolor\":\"white\"}},\"shapedefaults\":{\"line\":{\"color\":\"#2a3f5f\"}},\"ternary\":{\"aaxis\":{\"gridcolor\":\"white\",\"linecolor\":\"white\",\"ticks\":\"\"},\"baxis\":{\"gridcolor\":\"white\",\"linecolor\":\"white\",\"ticks\":\"\"},\"bgcolor\":\"#E5ECF6\",\"caxis\":{\"gridcolor\":\"white\",\"linecolor\":\"white\",\"ticks\":\"\"}},\"title\":{\"x\":0.05},\"xaxis\":{\"automargin\":true,\"gridcolor\":\"white\",\"linecolor\":\"white\",\"ticks\":\"\",\"title\":{\"standoff\":15},\"zerolinecolor\":\"white\",\"zerolinewidth\":2},\"yaxis\":{\"automargin\":true,\"gridcolor\":\"white\",\"linecolor\":\"white\",\"ticks\":\"\",\"title\":{\"standoff\":15},\"zerolinecolor\":\"white\",\"zerolinewidth\":2}}},\"title\":{\"text\":\"Training time of each model\"}},                        {\"responsive\": true}                    ).then(function(){\n",
              "                            \n",
              "var gd = document.getElementById('8d830f24-5ff2-4347-889c-f7d569c4aa91');\n",
              "var x = new MutationObserver(function (mutations, observer) {{\n",
              "        var display = window.getComputedStyle(gd).display;\n",
              "        if (!display || display === 'none') {{\n",
              "            console.log([gd, 'removed!']);\n",
              "            Plotly.purge(gd);\n",
              "            observer.disconnect();\n",
              "        }}\n",
              "}});\n",
              "\n",
              "// Listen for the removal of the full notebook cells\n",
              "var notebookContainer = gd.closest('#notebook-container');\n",
              "if (notebookContainer) {{\n",
              "    x.observe(notebookContainer, {childList: true});\n",
              "}}\n",
              "\n",
              "// Listen for the clearing of the current output cell\n",
              "var outputEl = gd.closest('.output');\n",
              "if (outputEl) {{\n",
              "    x.observe(outputEl, {childList: true});\n",
              "}}\n",
              "\n",
              "                        })                };                            </script>        </div>\n",
              "</body>\n",
              "</html>"
            ]
          },
          "metadata": {}
        }
      ]
    }
  ]
}