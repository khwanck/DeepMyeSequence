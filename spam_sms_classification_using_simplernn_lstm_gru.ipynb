{
  "cells": [
    {
      "cell_type": "code",
      "execution_count": null,
      "id": "dd4aa86f",
      "metadata": {
        "_cell_guid": "b1076dfc-b9ad-4769-8c92-a6c4dae69d19",
        "_uuid": "8f2839f25d086af736a60e9eeb907d3b93b6e0e5",
        "execution": {
          "iopub.execute_input": "2022-01-02T08:26:44.872714Z",
          "iopub.status.busy": "2022-01-02T08:26:44.871998Z",
          "iopub.status.idle": "2022-01-02T08:26:44.889622Z",
          "shell.execute_reply": "2022-01-02T08:26:44.888923Z",
          "shell.execute_reply.started": "2022-01-02T07:46:47.817042Z"
        },
        "papermill": {
          "duration": 0.051299,
          "end_time": "2022-01-02T08:26:44.889787",
          "exception": false,
          "start_time": "2022-01-02T08:26:44.838488",
          "status": "completed"
        },
        "tags": [],
        "id": "dd4aa86f"
      },
      "outputs": [],
      "source": [
        "# This Python 3 environment comes with many helpful analytics libraries installed\n",
        "# It is defined by the kaggle/python Docker image: https://github.com/kaggle/docker-python\n",
        "# For example, here's several helpful packages to load\n",
        "\n",
        "import numpy as np # linear algebra\n",
        "import pandas as pd # data processing, CSV file I/O (e.g. pd.read_csv)\n",
        "\n",
        "# Input data files are available in the read-only \"../input/\" directory\n",
        "# For example, running this (by clicking run or pressing Shift+Enter) will list all files under the input directory\n",
        "\n",
        "import os\n",
        "#for dirname, _, filenames in os.walk('/kaggle/input'):\n",
        "#    for filename in filenames:\n",
        "#        print(os.path.join(dirname, filename))\n",
        "\n",
        "# You can write up to 20GB to the current directory (/kaggle/working/) that gets preserved as output when you create a version using \"Save & Run All\" \n",
        "# You can also write temporary files to /kaggle/temp/, but they won't be saved outside of the current session"
      ]
    },
    {
      "cell_type": "code",
      "execution_count": null,
      "id": "7c31ea79",
      "metadata": {
        "execution": {
          "iopub.execute_input": "2022-01-02T08:26:44.934402Z",
          "iopub.status.busy": "2022-01-02T08:26:44.933351Z",
          "iopub.status.idle": "2022-01-02T08:26:52.178340Z",
          "shell.execute_reply": "2022-01-02T08:26:52.178889Z",
          "shell.execute_reply.started": "2022-01-02T07:46:47.865914Z"
        },
        "papermill": {
          "duration": 7.268533,
          "end_time": "2022-01-02T08:26:52.179068",
          "exception": false,
          "start_time": "2022-01-02T08:26:44.910535",
          "status": "completed"
        },
        "tags": [],
        "id": "7c31ea79"
      },
      "outputs": [],
      "source": [
        "# import the necessary libraries\n",
        "from keras.preprocessing.text import Tokenizer \n",
        "from keras.preprocessing.sequence import pad_sequences\n",
        "from keras.models import Sequential \n",
        "from keras.layers import Embedding, SimpleRNN, LSTM, GRU, Dense\n",
        "\n",
        "import warnings\n",
        "warnings.filterwarnings(\"ignore\")\n",
        "import os\n",
        "os.environ[\"KMP_SETTINGS\"] = \"false\"\n",
        "\n",
        "from sklearn import preprocessing\n",
        "import time\n",
        "\n",
        "import plotly.express as px\n",
        "import plotly.graph_objects as go\n",
        "from plotly.subplots import make_subplots"
      ]
    },
    {
      "cell_type": "code",
      "execution_count": null,
      "id": "fe57decb",
      "metadata": {
        "execution": {
          "iopub.execute_input": "2022-01-02T08:26:52.226573Z",
          "iopub.status.busy": "2022-01-02T08:26:52.223456Z",
          "iopub.status.idle": "2022-01-02T08:26:52.276719Z",
          "shell.execute_reply": "2022-01-02T08:26:52.277233Z",
          "shell.execute_reply.started": "2022-01-02T07:46:56.470634Z"
        },
        "papermill": {
          "duration": 0.077246,
          "end_time": "2022-01-02T08:26:52.277411",
          "exception": false,
          "start_time": "2022-01-02T08:26:52.200165",
          "status": "completed"
        },
        "tags": [],
        "id": "fe57decb"
      },
      "outputs": [],
      "source": [
        "# import the dataset and cleaning it \n",
        "df = pd.read_csv('https://raw.githubusercontent.com/khwanck/DeepMyeSequence/main/dataset/spam.csv', encoding = 'ISO-8859-1')\n",
        "df.rename(columns={'v1': 'Classification', 'v2': 'SMS'}, inplace=True)\n",
        "df.drop(['Unnamed: 2', 'Unnamed: 3', 'Unnamed: 4'], axis=1, inplace=True)\n",
        "df.head()"
      ]
    },
    {
      "cell_type": "code",
      "execution_count": null,
      "id": "bee23c3c",
      "metadata": {
        "execution": {
          "iopub.execute_input": "2022-01-02T08:26:52.327698Z",
          "iopub.status.busy": "2022-01-02T08:26:52.326693Z",
          "iopub.status.idle": "2022-01-02T08:26:52.639252Z",
          "shell.execute_reply": "2022-01-02T08:26:52.638056Z",
          "shell.execute_reply.started": "2022-01-02T07:46:56.53431Z"
        },
        "papermill": {
          "duration": 0.341618,
          "end_time": "2022-01-02T08:26:52.639446",
          "exception": false,
          "start_time": "2022-01-02T08:26:52.297828",
          "status": "completed"
        },
        "tags": [],
        "id": "bee23c3c"
      },
      "outputs": [],
      "source": [
        "# preprocessing the data by tokenizing and padding the textual data and encoding the categorical classification labels\n",
        "maxlen = 100\n",
        "training_samples = 3000\n",
        "validation_samples = 2000\n",
        "testing_samples = 572\n",
        "max_words = 10000\n",
        "\n",
        "tokenizer = Tokenizer(num_words=max_words)\n",
        "tokenizer.fit_on_texts(df['SMS'])\n",
        "sequences = tokenizer.texts_to_sequences(df['SMS'])\n",
        "word_index = tokenizer.word_index\n",
        "print('Found ', len(word_index), ' unique tokens.')\n",
        "\n",
        "label_encoder = preprocessing.LabelEncoder()\n",
        "classification = label_encoder.fit_transform(df['Classification'])\n",
        "\n",
        "data = pad_sequences(sequences, maxlen=maxlen)\n",
        "labels = np.asarray(classification)\n",
        "print('Shape of the tensor containing the SMSes:', data.shape)\n",
        "print('Shape of the tensor containing the classifcation labels:', labels.shape)\n",
        "\n",
        "# splitting the data into train, validation and test sets\n",
        "indices = np.arange(data.shape[0])\n",
        "np.random.shuffle(indices)\n",
        "data = data[indices]\n",
        "labels = labels[indices]\n",
        "\n",
        "x_train = data[:training_samples]\n",
        "y_train = labels[:training_samples]\n",
        "x_val = data[training_samples: training_samples + validation_samples]\n",
        "y_val = labels[training_samples: training_samples + validation_samples]\n",
        "x_test = data[validation_samples: validation_samples + testing_samples]\n",
        "y_test = labels[validation_samples: validation_samples + testing_samples]"
      ]
    },
    {
      "cell_type": "code",
      "execution_count": null,
      "id": "6644a57a",
      "metadata": {
        "execution": {
          "iopub.execute_input": "2022-01-02T08:26:52.685091Z",
          "iopub.status.busy": "2022-01-02T08:26:52.684445Z",
          "iopub.status.idle": "2022-01-02T08:27:11.469565Z",
          "shell.execute_reply": "2022-01-02T08:27:11.470620Z",
          "shell.execute_reply.started": "2022-01-02T07:46:56.854425Z"
        },
        "papermill": {
          "duration": 18.809853,
          "end_time": "2022-01-02T08:27:11.470953",
          "exception": false,
          "start_time": "2022-01-02T08:26:52.661100",
          "status": "completed"
        },
        "tags": [],
        "id": "6644a57a"
      },
      "outputs": [],
      "source": [
        "# importing the GloVe word embeddings \n",
        "#glove_dir = '/kaggle/input/glove-global-vectors-for-word-representation/'\n",
        "import urllib.request as urllib2\n",
        "\n",
        "embeddings_index = {}\n",
        "#f = open('https://bads-dl.s3.ap-southeast-1.amazonaws.com/dataset/glove.6B.100d.txt')\n",
        "f = urllib2.urlopen(\"https://bads-dl.s3.ap-southeast-1.amazonaws.com/dataset/glove.6B.100d.txt\")\n",
        "for line in f:\n",
        "    values = line.split()\n",
        "    word = values[0]\n",
        "    coefs = np.asarray(values[1:], dtype='float32')\n",
        "    embeddings_index[word] = coefs\n",
        "f.close()\n",
        "print('Found', len(embeddings_index), 'word index')\n",
        "\n",
        "# creating a embedding matrix of size (max_words, embedding_dim) which can be loaded in the embedding layer \n",
        "embedding_dim = 100\n",
        "\n",
        "embedding_matrix = np.zeros((max_words, embedding_dim))\n",
        "for word, i in word_index.items():\n",
        "    if i < max_words:\n",
        "        embedding_vector = embeddings_index.get(word)\n",
        "        if embedding_vector is not None:\n",
        "            embedding_matrix[i] = embedding_vector"
      ]
    },
    {
      "cell_type": "code",
      "execution_count": null,
      "id": "e4b1a673",
      "metadata": {
        "execution": {
          "iopub.execute_input": "2022-01-02T08:27:11.520138Z",
          "iopub.status.busy": "2022-01-02T08:27:11.517114Z",
          "iopub.status.idle": "2022-01-02T08:27:11.764733Z",
          "shell.execute_reply": "2022-01-02T08:27:11.765190Z",
          "shell.execute_reply.started": "2022-01-02T07:47:15.703133Z"
        },
        "papermill": {
          "duration": 0.27219,
          "end_time": "2022-01-02T08:27:11.765389",
          "exception": false,
          "start_time": "2022-01-02T08:27:11.493199",
          "status": "completed"
        },
        "tags": [],
        "id": "e4b1a673"
      },
      "outputs": [],
      "source": [
        "# SimpleRNN model\n",
        "model = Sequential()\n",
        "model.add(Embedding(max_words, embedding_dim, input_length=maxlen))\n",
        "model.add(SimpleRNN(32, return_sequences=True))\n",
        "model.add(Dense(1, activation='sigmoid'))\n",
        "model.layers[0].set_weights([embedding_matrix])\n",
        "model.layers[0].trainable = False\n",
        "model.summary()"
      ]
    },
    {
      "cell_type": "code",
      "source": [
        ""
      ],
      "metadata": {
        "id": "SrSsc_VSIeJR"
      },
      "id": "SrSsc_VSIeJR",
      "execution_count": null,
      "outputs": []
    },
    {
      "cell_type": "code",
      "source": [
        "print(\"Dimension before changed:\") \n",
        "print(x_train.shape,':',y_train.shape)\n",
        "print(x_val.shape,':',y_val.shape)\n",
        "print(x_test.shape,':',y_test.shape)\n",
        "\n",
        "x_train=x_train[ ..., np.newaxis ]\n",
        "y_train=y_train[ ..., np.newaxis ]\n",
        "x_val=x_val[ ..., np.newaxis ]\n",
        "y_val=y_val[ ..., np.newaxis ]\n",
        "x_test=x_test[ ..., np.newaxis ]\n",
        "y_test=y_test[ ..., np.newaxis ]\n",
        "\n",
        "print(\"\\nDimension after changed:\") \n",
        "print(x_train.shape,':',y_train.shape)\n",
        "print(x_val.shape,':',y_val.shape)\n",
        "print(x_test.shape,':',y_test.shape)"
      ],
      "metadata": {
        "id": "SrgjZ7WzI4DW"
      },
      "id": "SrgjZ7WzI4DW",
      "execution_count": null,
      "outputs": []
    },
    {
      "cell_type": "code",
      "execution_count": null,
      "id": "015002fb",
      "metadata": {
        "execution": {
          "iopub.execute_input": "2022-01-02T08:27:11.820672Z",
          "iopub.status.busy": "2022-01-02T08:27:11.819968Z",
          "iopub.status.idle": "2022-01-02T08:27:53.291075Z",
          "shell.execute_reply": "2022-01-02T08:27:53.291610Z",
          "shell.execute_reply.started": "2022-01-02T07:47:15.997912Z"
        },
        "papermill": {
          "duration": 41.504497,
          "end_time": "2022-01-02T08:27:53.291814",
          "exception": false,
          "start_time": "2022-01-02T08:27:11.787317",
          "status": "completed"
        },
        "tags": [],
        "id": "015002fb"
      },
      "outputs": [],
      "source": [
        "model.compile(optimizer='rmsprop',loss='binary_crossentropy', metrics=['acc'])\n",
        "tik = time.time()\n",
        "history = model.fit(x_train, y_train, epochs=10, batch_size=32, validation_data=(x_val, y_val))\n",
        "tok = time.time()\n",
        "print(tik, tok, tok-tik)"
      ]
    },
    {
      "cell_type": "code",
      "execution_count": null,
      "id": "c015ac19",
      "metadata": {
        "execution": {
          "iopub.execute_input": "2022-01-02T08:27:53.634652Z",
          "iopub.status.busy": "2022-01-02T08:27:53.633954Z",
          "iopub.status.idle": "2022-01-02T08:27:53.951996Z",
          "shell.execute_reply": "2022-01-02T08:27:53.951290Z",
          "shell.execute_reply.started": "2022-01-02T07:47:58.923173Z"
        },
        "papermill": {
          "duration": 0.491499,
          "end_time": "2022-01-02T08:27:53.952167",
          "exception": false,
          "start_time": "2022-01-02T08:27:53.460668",
          "status": "completed"
        },
        "tags": [],
        "id": "c015ac19"
      },
      "outputs": [],
      "source": [
        "# evaluating the performance of the model\n",
        "values_1 = model.evaluate(x_test,y_test)\n",
        "values_1\n",
        "time_1 = tok-tik "
      ]
    },
    {
      "cell_type": "code",
      "execution_count": null,
      "id": "92e54f5c",
      "metadata": {
        "execution": {
          "iopub.execute_input": "2022-01-02T08:27:54.300807Z",
          "iopub.status.busy": "2022-01-02T08:27:54.300126Z",
          "iopub.status.idle": "2022-01-02T08:27:55.292628Z",
          "shell.execute_reply": "2022-01-02T08:27:55.292068Z",
          "shell.execute_reply.started": "2022-01-02T07:47:59.405389Z"
        },
        "papermill": {
          "duration": 1.17046,
          "end_time": "2022-01-02T08:27:55.292764",
          "exception": false,
          "start_time": "2022-01-02T08:27:54.122304",
          "status": "completed"
        },
        "tags": [],
        "id": "92e54f5c"
      },
      "outputs": [],
      "source": [
        "df_1 = pd.DataFrame()\n",
        "df_1['Training Accuracy'] = history.history['acc']\n",
        "df_1['Validation Accuracy'] = history.history['val_acc']\n",
        "df_1['Training Loss'] = history.history['loss']\n",
        "df_1['Validation Loss'] = history.history['val_loss']\n",
        "df_1['Epochs'] = range(1, len(df_1['Training Accuracy']) + 1)\n",
        "\n",
        "# comparing the training and validation accuracy \n",
        "fig = px.line(df_1, x='Epochs', y=['Training Accuracy', 'Validation Accuracy'], title='Training and Validation Accuracy for the SimpleRNN model')\n",
        "fig.show()"
      ]
    },
    {
      "cell_type": "code",
      "execution_count": null,
      "id": "4a51611f",
      "metadata": {
        "execution": {
          "iopub.execute_input": "2022-01-02T08:27:55.644279Z",
          "iopub.status.busy": "2022-01-02T08:27:55.643619Z",
          "iopub.status.idle": "2022-01-02T08:27:55.708902Z",
          "shell.execute_reply": "2022-01-02T08:27:55.709434Z",
          "shell.execute_reply.started": "2022-01-02T07:48:00.508416Z"
        },
        "papermill": {
          "duration": 0.245882,
          "end_time": "2022-01-02T08:27:55.709607",
          "exception": false,
          "start_time": "2022-01-02T08:27:55.463725",
          "status": "completed"
        },
        "tags": [],
        "id": "4a51611f"
      },
      "outputs": [],
      "source": [
        "# comparing the training and validation loss\n",
        "fig = px.line(df_1, x='Epochs', y=['Training Loss', 'Validation Loss'], title='Training and Validation Loss for the SimpleRNN model')\n",
        "fig.show()"
      ]
    },
    {
      "cell_type": "code",
      "execution_count": null,
      "id": "d71510cf",
      "metadata": {
        "execution": {
          "iopub.execute_input": "2022-01-02T08:27:56.062568Z",
          "iopub.status.busy": "2022-01-02T08:27:56.061897Z",
          "iopub.status.idle": "2022-01-02T08:27:56.327316Z",
          "shell.execute_reply": "2022-01-02T08:27:56.326729Z",
          "shell.execute_reply.started": "2022-01-02T07:48:00.586728Z"
        },
        "papermill": {
          "duration": 0.442943,
          "end_time": "2022-01-02T08:27:56.327466",
          "exception": false,
          "start_time": "2022-01-02T08:27:55.884523",
          "status": "completed"
        },
        "tags": [],
        "id": "d71510cf"
      },
      "outputs": [],
      "source": [
        "# LSTM model\n",
        "model = Sequential()\n",
        "model.add(Embedding(max_words, embedding_dim, input_length=maxlen))\n",
        "model.add(LSTM(32))\n",
        "model.add(Dense(1, activation='sigmoid'))\n",
        "model.layers[0].set_weights([embedding_matrix])\n",
        "model.layers[0].trainable = False\n",
        "model.summary()"
      ]
    },
    {
      "cell_type": "code",
      "execution_count": null,
      "id": "51ba8919",
      "metadata": {
        "execution": {
          "iopub.execute_input": "2022-01-02T08:27:56.683279Z",
          "iopub.status.busy": "2022-01-02T08:27:56.682618Z",
          "iopub.status.idle": "2022-01-02T08:29:21.665699Z",
          "shell.execute_reply": "2022-01-02T08:29:21.666390Z",
          "shell.execute_reply.started": "2022-01-02T07:48:00.874082Z"
        },
        "papermill": {
          "duration": 85.165432,
          "end_time": "2022-01-02T08:29:21.666595",
          "exception": false,
          "start_time": "2022-01-02T08:27:56.501163",
          "status": "completed"
        },
        "tags": [],
        "id": "51ba8919"
      },
      "outputs": [],
      "source": [
        "model.compile(optimizer='rmsprop',loss='binary_crossentropy', metrics=['acc'])\n",
        "tik = time.time()\n",
        "lstm = model.fit(x_train, y_train, epochs=10, batch_size=32, validation_data=(x_val, y_val))\n",
        "tok = time.time()\n",
        "print(tik, tok, tok-tik)"
      ]
    },
    {
      "cell_type": "code",
      "execution_count": null,
      "id": "1d31be68",
      "metadata": {
        "execution": {
          "iopub.execute_input": "2022-01-02T08:29:22.593864Z",
          "iopub.status.busy": "2022-01-02T08:29:22.593235Z",
          "iopub.status.idle": "2022-01-02T08:29:23.091915Z",
          "shell.execute_reply": "2022-01-02T08:29:23.091394Z",
          "shell.execute_reply.started": "2022-01-02T07:49:23.17157Z"
        },
        "papermill": {
          "duration": 0.964718,
          "end_time": "2022-01-02T08:29:23.092049",
          "exception": false,
          "start_time": "2022-01-02T08:29:22.127331",
          "status": "completed"
        },
        "tags": [],
        "id": "1d31be68"
      },
      "outputs": [],
      "source": [
        "# evaluating the performance of the model\n",
        "values_2 = model.evaluate(x_test,y_test)\n",
        "values_2\n",
        "time_2 = tok-tik"
      ]
    },
    {
      "cell_type": "code",
      "execution_count": null,
      "id": "b8816434",
      "metadata": {
        "execution": {
          "iopub.execute_input": "2022-01-02T08:29:24.024981Z",
          "iopub.status.busy": "2022-01-02T08:29:24.024359Z",
          "iopub.status.idle": "2022-01-02T08:29:24.101291Z",
          "shell.execute_reply": "2022-01-02T08:29:24.100796Z",
          "shell.execute_reply.started": "2022-01-02T07:49:23.688152Z"
        },
        "papermill": {
          "duration": 0.545975,
          "end_time": "2022-01-02T08:29:24.101428",
          "exception": false,
          "start_time": "2022-01-02T08:29:23.555453",
          "status": "completed"
        },
        "tags": [],
        "id": "b8816434"
      },
      "outputs": [],
      "source": [
        "df_2 = pd.DataFrame()\n",
        "df_2['Training Accuracy'] = lstm.history['acc']\n",
        "df_2['Validation Accuracy'] = lstm.history['val_acc']\n",
        "df_2['Training Loss'] = lstm.history['loss']\n",
        "df_2['Validation Loss'] = lstm.history['val_loss']\n",
        "df_2['Epochs'] = range(1, len(df_2['Training Accuracy']) + 1)\n",
        "\n",
        "# comparing the training and validation accuracy \n",
        "fig = px.line(df_2, x='Epochs', y=['Training Accuracy', 'Validation Accuracy'], title='Training and Validation Accuracy for the LSTM model')\n",
        "fig.show()"
      ]
    },
    {
      "cell_type": "code",
      "execution_count": null,
      "id": "c1160c17",
      "metadata": {
        "execution": {
          "iopub.execute_input": "2022-01-02T08:29:25.101733Z",
          "iopub.status.busy": "2022-01-02T08:29:25.080901Z",
          "iopub.status.idle": "2022-01-02T08:29:25.113033Z",
          "shell.execute_reply": "2022-01-02T08:29:25.112421Z",
          "shell.execute_reply.started": "2022-01-02T07:49:23.77146Z"
        },
        "papermill": {
          "duration": 0.551075,
          "end_time": "2022-01-02T08:29:25.113204",
          "exception": false,
          "start_time": "2022-01-02T08:29:24.562129",
          "status": "completed"
        },
        "tags": [],
        "id": "c1160c17"
      },
      "outputs": [],
      "source": [
        "# comparing the training and validation loss\n",
        "fig = px.line(df_2, x='Epochs', y=['Training Loss', 'Validation Loss'], title='Training and Validation Loss for the LSTM model')\n",
        "fig.show()"
      ]
    },
    {
      "cell_type": "code",
      "execution_count": null,
      "id": "f21780cd",
      "metadata": {
        "execution": {
          "iopub.execute_input": "2022-01-02T08:29:26.068530Z",
          "iopub.status.busy": "2022-01-02T08:29:26.067451Z",
          "iopub.status.idle": "2022-01-02T08:29:26.291982Z",
          "shell.execute_reply": "2022-01-02T08:29:26.291041Z",
          "shell.execute_reply.started": "2022-01-02T07:49:23.847731Z"
        },
        "papermill": {
          "duration": 0.717759,
          "end_time": "2022-01-02T08:29:26.292166",
          "exception": false,
          "start_time": "2022-01-02T08:29:25.574407",
          "status": "completed"
        },
        "tags": [],
        "id": "f21780cd"
      },
      "outputs": [],
      "source": [
        "# GRU model\n",
        "model = Sequential()\n",
        "model.add(Embedding(max_words, embedding_dim, input_length=maxlen))\n",
        "model.add(GRU(32))\n",
        "model.add(Dense(1, activation='sigmoid'))\n",
        "model.layers[0].set_weights([embedding_matrix])\n",
        "model.layers[0].trainable = False\n",
        "model.summary()"
      ]
    },
    {
      "cell_type": "code",
      "execution_count": null,
      "id": "96dcd329",
      "metadata": {
        "execution": {
          "iopub.execute_input": "2022-01-02T08:29:27.233095Z",
          "iopub.status.busy": "2022-01-02T08:29:27.232103Z",
          "iopub.status.idle": "2022-01-02T08:31:11.158775Z",
          "shell.execute_reply": "2022-01-02T08:31:11.157940Z",
          "shell.execute_reply.started": "2022-01-02T07:49:24.083761Z"
        },
        "papermill": {
          "duration": 104.401011,
          "end_time": "2022-01-02T08:31:11.158995",
          "exception": false,
          "start_time": "2022-01-02T08:29:26.757984",
          "status": "completed"
        },
        "tags": [],
        "id": "96dcd329"
      },
      "outputs": [],
      "source": [
        "model.compile(optimizer='rmsprop',loss='binary_crossentropy', metrics=['acc'])\n",
        "tik = time.time()\n",
        "gru = model.fit(x_train, y_train, epochs=10, batch_size=32, validation_data=(x_val, y_val))\n",
        "tok = time.time()\n",
        "print(tik, tok, tok-tik)"
      ]
    },
    {
      "cell_type": "code",
      "execution_count": null,
      "id": "3b617275",
      "metadata": {
        "execution": {
          "iopub.execute_input": "2022-01-02T08:31:12.711771Z",
          "iopub.status.busy": "2022-01-02T08:31:12.710782Z",
          "iopub.status.idle": "2022-01-02T08:31:13.428257Z",
          "shell.execute_reply": "2022-01-02T08:31:13.427632Z",
          "shell.execute_reply.started": "2022-01-02T07:51:09.812068Z"
        },
        "papermill": {
          "duration": 1.501062,
          "end_time": "2022-01-02T08:31:13.428407",
          "exception": false,
          "start_time": "2022-01-02T08:31:11.927345",
          "status": "completed"
        },
        "tags": [],
        "id": "3b617275"
      },
      "outputs": [],
      "source": [
        "# evaluating the performance of the model\n",
        "values_3 = model.evaluate(x_test,y_test)\n",
        "values_3\n",
        "time_3 = tok-tik"
      ]
    },
    {
      "cell_type": "code",
      "execution_count": null,
      "id": "b83966a6",
      "metadata": {
        "execution": {
          "iopub.execute_input": "2022-01-02T08:31:15.047955Z",
          "iopub.status.busy": "2022-01-02T08:31:15.047212Z",
          "iopub.status.idle": "2022-01-02T08:31:15.118438Z",
          "shell.execute_reply": "2022-01-02T08:31:15.118924Z",
          "shell.execute_reply.started": "2022-01-02T07:51:10.583201Z"
        },
        "papermill": {
          "duration": 0.843988,
          "end_time": "2022-01-02T08:31:15.119090",
          "exception": false,
          "start_time": "2022-01-02T08:31:14.275102",
          "status": "completed"
        },
        "tags": [],
        "id": "b83966a6"
      },
      "outputs": [],
      "source": [
        "df_3 = pd.DataFrame()\n",
        "df_3['Training Accuracy'] = gru.history['acc']\n",
        "df_3['Validation Accuracy'] = gru.history['val_acc']\n",
        "df_3['Training Loss'] = gru.history['loss']\n",
        "df_3['Validation Loss'] = gru.history['val_loss']\n",
        "df_3['Epochs'] = range(1, len(df_3['Training Accuracy']) + 1)\n",
        "\n",
        "# comparing the training and validation accuracy \n",
        "fig = px.line(df_3, x='Epochs', y=['Training Accuracy', 'Validation Accuracy'], title='Training and Validation Accuracy for the GRU model')\n",
        "fig.show()"
      ]
    },
    {
      "cell_type": "code",
      "execution_count": null,
      "id": "d4445c63",
      "metadata": {
        "execution": {
          "iopub.execute_input": "2022-01-02T08:31:16.649052Z",
          "iopub.status.busy": "2022-01-02T08:31:16.647988Z",
          "iopub.status.idle": "2022-01-02T08:31:16.710462Z",
          "shell.execute_reply": "2022-01-02T08:31:16.710937Z",
          "shell.execute_reply.started": "2022-01-02T07:51:10.676895Z"
        },
        "papermill": {
          "duration": 0.837172,
          "end_time": "2022-01-02T08:31:16.711155",
          "exception": false,
          "start_time": "2022-01-02T08:31:15.873983",
          "status": "completed"
        },
        "tags": [],
        "id": "d4445c63"
      },
      "outputs": [],
      "source": [
        "# comparing the training and validation loss\n",
        "fig = px.line(df_3, x='Epochs', y=['Training Loss', 'Validation Loss'], title='Training and Validation Loss for the GRU model')\n",
        "fig.show()"
      ]
    },
    {
      "cell_type": "code",
      "execution_count": null,
      "id": "ea62046c",
      "metadata": {
        "execution": {
          "iopub.execute_input": "2022-01-02T08:31:18.242201Z",
          "iopub.status.busy": "2022-01-02T08:31:18.241208Z",
          "iopub.status.idle": "2022-01-02T08:31:18.294261Z",
          "shell.execute_reply": "2022-01-02T08:31:18.294730Z",
          "shell.execute_reply.started": "2022-01-02T07:59:43.230314Z"
        },
        "papermill": {
          "duration": 0.823658,
          "end_time": "2022-01-02T08:31:18.294906",
          "exception": false,
          "start_time": "2022-01-02T08:31:17.471248",
          "status": "completed"
        },
        "tags": [],
        "id": "ea62046c"
      },
      "outputs": [],
      "source": [
        "# comparing the evaluation performance of all the models\n",
        "fig = make_subplots(rows=1, cols=2, subplot_titles=('Evaluation Loss',  'Evaluation Accuracy'))\n",
        "\n",
        "fig.add_trace(\n",
        "    go.Bar(name='Loss', \n",
        "           x=['SimpleRNN', 'LSTM', 'GRU'], \n",
        "           y=[values_1[0], values_2[0], values_3[0]]),\n",
        "           row=1, \n",
        "           col=1)\n",
        "\n",
        "fig.add_trace(\n",
        "    go.Bar(name='Accuracy', \n",
        "           x=['SimpleRNN', 'LSTM', 'GRU'], \n",
        "           y=[values_1[1], values_2[1], values_3[1]]),\n",
        "           row=1, \n",
        "           col=2)\n",
        "\n",
        "fig.update_layout(title_text='Evaulation Results')\n",
        "fig.show()"
      ]
    },
    {
      "cell_type": "code",
      "execution_count": null,
      "id": "816bf6b7",
      "metadata": {
        "execution": {
          "iopub.execute_input": "2022-01-02T08:31:19.923110Z",
          "iopub.status.busy": "2022-01-02T08:31:19.922112Z",
          "iopub.status.idle": "2022-01-02T08:31:19.928045Z",
          "shell.execute_reply": "2022-01-02T08:31:19.928630Z",
          "shell.execute_reply.started": "2022-01-02T08:01:40.227335Z"
        },
        "papermill": {
          "duration": 0.850523,
          "end_time": "2022-01-02T08:31:19.928806",
          "exception": false,
          "start_time": "2022-01-02T08:31:19.078283",
          "status": "completed"
        },
        "tags": [],
        "id": "816bf6b7"
      },
      "outputs": [],
      "source": [
        "# comparing the training time for each of the models \n",
        "fig = go.Figure()\n",
        "fig.add_trace(go.Bar(name='Loss', \n",
        "                     x=['SimpleRNN', 'LSTM', 'GRU'], \n",
        "                     y=[time_1, time_2, time_3]))\n",
        "fig.update_layout(title_text='Training time of each model')\n",
        "fig.show()"
      ]
    },
    {
      "cell_type": "markdown",
      "id": "86bca7f4",
      "metadata": {
        "papermill": {
          "duration": 0.760952,
          "end_time": "2022-01-02T08:31:21.445361",
          "exception": false,
          "start_time": "2022-01-02T08:31:20.684409",
          "status": "completed"
        },
        "tags": [],
        "id": "86bca7f4"
      },
      "source": [
        "As we can from our analysis, LSTM and GRU have similar performance however, GRU takes a little more time to train as compared to LSTM. GRU have a lower evaluation loss as compared to LSTM. SimpleRNN model takes the least amount of time but also have the lowest accuracy."
      ]
    },
    {
      "cell_type": "code",
      "execution_count": null,
      "id": "1a5c1513",
      "metadata": {
        "papermill": {
          "duration": 0.764156,
          "end_time": "2022-01-02T08:31:22.969737",
          "exception": false,
          "start_time": "2022-01-02T08:31:22.205581",
          "status": "completed"
        },
        "tags": [],
        "id": "1a5c1513"
      },
      "outputs": [],
      "source": [
        ""
      ]
    }
  ],
  "metadata": {
    "kernelspec": {
      "display_name": "Python 3",
      "language": "python",
      "name": "python3"
    },
    "language_info": {
      "codemirror_mode": {
        "name": "ipython",
        "version": 3
      },
      "file_extension": ".py",
      "mimetype": "text/x-python",
      "name": "python",
      "nbconvert_exporter": "python",
      "pygments_lexer": "ipython3",
      "version": "3.7.12"
    },
    "papermill": {
      "default_parameters": {},
      "duration": 291.926525,
      "end_time": "2022-01-02T08:31:27.064645",
      "environment_variables": {},
      "exception": null,
      "input_path": "__notebook__.ipynb",
      "output_path": "__notebook__.ipynb",
      "parameters": {},
      "start_time": "2022-01-02T08:26:35.138120",
      "version": "2.3.3"
    },
    "colab": {
      "name": "spam-sms-classification-using-simplernn-lstm-gru.ipynb",
      "provenance": [],
      "collapsed_sections": []
    }
  },
  "nbformat": 4,
  "nbformat_minor": 5
}